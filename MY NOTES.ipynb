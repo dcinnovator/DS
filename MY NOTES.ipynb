{
    "nbformat_minor": 2, 
    "cells": [
        {
            "source": "<img alt=\"IBM\" align=\"right\" src=\"https://raw.githubusercontent.com/dcinnovator/DS/master/IBM%20JUST%20LOGO%20SMALL.png\" > <br><br><br><br>", 
            "cell_type": "markdown", 
            "metadata": {}
        }, 
        {
            "execution_count": null, 
            "cell_type": "code", 
            "metadata": {}, 
            "outputs": [], 
            "source": ""
        }, 
        {
            "source": "## Table of Contents for Useful Python Commands for Data Preparation and Analysis\n\n1. [Environment Commands](#env)\n1. [Create/Read/Write/Populate/Describe files](#getfile)\n1. [Handle Missing Values](#missing)\n1. [Recode Variables](#recode)\n1. [Autorecode Variables](#arecode)\n1. [Rename Variables](#rename)\n1. [](#)\n1. [](#)\n1. [](#)\n1. [Loops](#loops)\n1. [](#)\n1. [](#)\n\n\n<b><b/>\n\n\n<b>My Notes for Python commands useful for data manipulation and analysis. Includes Pandas and sklearn.<b/>", 
            "cell_type": "markdown", 
            "metadata": {}
        }, 
        {
            "execution_count": 2, 
            "cell_type": "code", 
            "metadata": {}, 
            "outputs": [], 
            "source": "#Import Libraries: there will be lots of redundant imports so the code can be run in separte chunks\n\n#although there are many ways to manipulate files, pandas is widely used and should be familiar. \n#This example uses pandas for data manipulation.\n\nimport pandas as pd"
        }, 
        {
            "source": "<a id=\"env\"></a>\n#### Environment Commands\n\n\n\n", 
            "cell_type": "markdown", 
            "metadata": {}
        }, 
        {
            "execution_count": 3, 
            "cell_type": "code", 
            "metadata": {}, 
            "outputs": [
                {
                    "execution_count": 3, 
                    "metadata": {}, 
                    "data": {
                        "text/plain": "'/home/dsxuser/work'"
                    }, 
                    "output_type": "execute_result"
                }
            ], 
            "source": "#print working directory- make sure to use % before pwd\nimport os as os\n%pwd"
        }, 
        {
            "source": " <font color=\"blue\">List Directory, Contents</font> ", 
            "cell_type": "markdown", 
            "metadata": {}
        }, 
        {
            "execution_count": 4, 
            "cell_type": "code", 
            "metadata": {}, 
            "outputs": [
                {
                    "output_type": "stream", 
                    "name": "stdout", 
                    "text": "Files: [] Directory: /home/dsxuser/work\n"
                }
            ], 
            "source": "import os \nListFiles = os.listdir(os.curdir) \n#use percent to print working directory inline within the print command (magic function)\nListDir = %pwd\n\nprint('Files:', ListFiles, 'Directory:', ListDir)"
        }, 
        {
            "source": " <font color=\"blue\">Install Git</font> ", 
            "cell_type": "markdown", 
            "metadata": {}
        }, 
        {
            "execution_count": 5, 
            "cell_type": "code", 
            "metadata": {
                "scrolled": true
            }, 
            "outputs": [], 
            "source": "#conda install git\n#not sure how to use yet "
        }, 
        {
            "execution_count": null, 
            "cell_type": "code", 
            "metadata": {}, 
            "outputs": [], 
            "source": ""
        }, 
        {
            "execution_count": null, 
            "cell_type": "code", 
            "metadata": {}, 
            "outputs": [], 
            "source": ""
        }, 
        {
            "source": "<a id=\"getfile\"></a>\n#### Create/Read/Write/Populate/Describe files\n<b><b/>", 
            "cell_type": "markdown", 
            "metadata": {}
        }, 
        {
            "execution_count": 6, 
            "cell_type": "code", 
            "metadata": {}, 
            "outputs": [], 
            "source": "#although there are many ways to manipulate files, pandas is widely used and should be familiar. \n#This example uses pandas for data manipulation.\n\nimport pandas as pd"
        }, 
        {
            "source": "#### Create Pandas df from Scratch\n", 
            "cell_type": "markdown", 
            "metadata": {}
        }, 
        {
            "execution_count": 7, 
            "cell_type": "code", 
            "metadata": {}, 
            "outputs": [
                {
                    "execution_count": 7, 
                    "metadata": {}, 
                    "data": {
                        "text/html": "<div>\n<style scoped>\n    .dataframe tbody tr th:only-of-type {\n        vertical-align: middle;\n    }\n\n    .dataframe tbody tr th {\n        vertical-align: top;\n    }\n\n    .dataframe thead th {\n        text-align: right;\n    }\n</style>\n<table border=\"1\" class=\"dataframe\">\n  <thead>\n    <tr style=\"text-align: right;\">\n      <th></th>\n      <th>ID</th>\n      <th>VAR0001</th>\n    </tr>\n  </thead>\n  <tbody>\n    <tr>\n      <th>0</th>\n      <td>1</td>\n      <td>A</td>\n    </tr>\n    <tr>\n      <th>1</th>\n      <td>2</td>\n      <td>B</td>\n    </tr>\n    <tr>\n      <th>2</th>\n      <td>3</td>\n      <td>C</td>\n    </tr>\n  </tbody>\n</table>\n</div>", 
                        "text/plain": "   ID VAR0001\n0   1       A\n1   2       B\n2   3       C"
                    }, 
                    "output_type": "execute_result"
                }
            ], 
            "source": "# Creating the first Dataframe using dictionary - much simpler than python below\nmyfile = pd.DataFrame({'ID':[1,2,3],'VAR0001':['A','B','C']}) \nmyfile.head()"
        }, 
        {
            "source": "#### Add line to data frame", 
            "cell_type": "markdown", 
            "metadata": {}
        }, 
        {
            "execution_count": 8, 
            "cell_type": "code", 
            "metadata": {}, 
            "outputs": [
                {
                    "execution_count": 8, 
                    "metadata": {}, 
                    "data": {
                        "text/html": "<div>\n<style scoped>\n    .dataframe tbody tr th:only-of-type {\n        vertical-align: middle;\n    }\n\n    .dataframe tbody tr th {\n        vertical-align: top;\n    }\n\n    .dataframe thead th {\n        text-align: right;\n    }\n</style>\n<table border=\"1\" class=\"dataframe\">\n  <thead>\n    <tr style=\"text-align: right;\">\n      <th></th>\n      <th>ID</th>\n      <th>VAR0001</th>\n      <th>VAR0002</th>\n    </tr>\n  </thead>\n  <tbody>\n    <tr>\n      <th>0</th>\n      <td>1</td>\n      <td>A</td>\n      <td>NaN</td>\n    </tr>\n    <tr>\n      <th>1</th>\n      <td>2</td>\n      <td>B</td>\n      <td>NaN</td>\n    </tr>\n    <tr>\n      <th>2</th>\n      <td>3</td>\n      <td>C</td>\n      <td>NaN</td>\n    </tr>\n    <tr>\n      <th>3</th>\n      <td>4</td>\n      <td>D</td>\n      <td>E</td>\n    </tr>\n  </tbody>\n</table>\n</div>", 
                        "text/plain": "   ID VAR0001 VAR0002\n0   1       A     NaN\n1   2       B     NaN\n2   3       C     NaN\n3   4       D       E"
                    }, 
                    "output_type": "execute_result"
                }
            ], 
            "source": "#add a 4th row with 4,D, E. Notice it creates new variable for entire df. Use append. ignore_index prevents index from starting over with new data appended.\ndf2 = pd.DataFrame({'ID':[4],'VAR0001':['D'], 'VAR0002' :['E']}) \n\nmyfile = myfile.append(df2, ignore_index = True)\n\n#shorten myfile to mf\nmf= myfile\nmf.head()"
        }, 
        {
            "source": "<a id=\"missing\"></a>\n#### Handle Missing Values\n<b><b/>", 
            "cell_type": "markdown", 
            "metadata": {}
        }, 
        {
            "execution_count": 9, 
            "cell_type": "code", 
            "metadata": {}, 
            "outputs": [
                {
                    "execution_count": 9, 
                    "metadata": {}, 
                    "data": {
                        "text/html": "<div>\n<style scoped>\n    .dataframe tbody tr th:only-of-type {\n        vertical-align: middle;\n    }\n\n    .dataframe tbody tr th {\n        vertical-align: top;\n    }\n\n    .dataframe thead th {\n        text-align: right;\n    }\n</style>\n<table border=\"1\" class=\"dataframe\">\n  <thead>\n    <tr style=\"text-align: right;\">\n      <th></th>\n      <th>ID</th>\n      <th>VAR0001</th>\n      <th>VAR0002</th>\n    </tr>\n  </thead>\n  <tbody>\n    <tr>\n      <th>0</th>\n      <td>1</td>\n      <td>A</td>\n      <td>0</td>\n    </tr>\n    <tr>\n      <th>1</th>\n      <td>2</td>\n      <td>B</td>\n      <td>0</td>\n    </tr>\n    <tr>\n      <th>2</th>\n      <td>3</td>\n      <td>C</td>\n      <td>0</td>\n    </tr>\n    <tr>\n      <th>3</th>\n      <td>4</td>\n      <td>D</td>\n      <td>E</td>\n    </tr>\n  </tbody>\n</table>\n</div>", 
                        "text/plain": "   ID VAR0001 VAR0002\n0   1       A       0\n1   2       B       0\n2   3       C       0\n3   4       D       E"
                    }, 
                    "output_type": "execute_result"
                }
            ], 
            "source": "#### Substitute NaN with 0\ndf3 = mf.fillna(0)\ndf3"
        }, 
        {
            "source": "<a id=\"rename\"></a>\n#### Rename Variables", 
            "cell_type": "markdown", 
            "metadata": {}
        }, 
        {
            "execution_count": 10, 
            "cell_type": "code", 
            "metadata": {}, 
            "outputs": [
                {
                    "ename": "NameError", 
                    "evalue": "name 'HTML' is not defined", 
                    "traceback": [
                        "\u001b[0;31m---------------------------------------------------------------------------\u001b[0m", 
                        "\u001b[0;31mNameError\u001b[0m                                 Traceback (most recent call last)", 
                        "\u001b[0;32m<ipython-input-10-a079f48032f8>\u001b[0m in \u001b[0;36m<module>\u001b[0;34m()\u001b[0m\n\u001b[1;32m      1\u001b[0m \u001b[0mdf4\u001b[0m \u001b[0;34m=\u001b[0m \u001b[0mdf3\u001b[0m\u001b[0;34m.\u001b[0m\u001b[0mrename\u001b[0m\u001b[0;34m(\u001b[0m\u001b[0mindex\u001b[0m\u001b[0;34m=\u001b[0m\u001b[0mstr\u001b[0m\u001b[0;34m,\u001b[0m \u001b[0mcolumns\u001b[0m\u001b[0;34m=\u001b[0m\u001b[0;34m{\u001b[0m\u001b[0;34m\"VAR0001\"\u001b[0m\u001b[0;34m:\u001b[0m \u001b[0;34m\"Threat\"\u001b[0m\u001b[0;34m,\u001b[0m \u001b[0;34m\"VAR0002\"\u001b[0m\u001b[0;34m:\u001b[0m \u001b[0;34m\"Status\"\u001b[0m\u001b[0;34m}\u001b[0m\u001b[0;34m)\u001b[0m\u001b[0;34m\u001b[0m\u001b[0m\n\u001b[0;32m----> 2\u001b[0;31m \u001b[0mdisplay\u001b[0m\u001b[0;34m(\u001b[0m\u001b[0mHTML\u001b[0m\u001b[0;34m(\u001b[0m\u001b[0mdf4\u001b[0m\u001b[0;34m.\u001b[0m\u001b[0mto_html\u001b[0m\u001b[0;34m(\u001b[0m\u001b[0mindex\u001b[0m\u001b[0;34m=\u001b[0m\u001b[0;32mFalse\u001b[0m\u001b[0;34m)\u001b[0m\u001b[0;34m)\u001b[0m\u001b[0;34m)\u001b[0m\u001b[0;34m\u001b[0m\u001b[0m\n\u001b[0m", 
                        "\u001b[0;31mNameError\u001b[0m: name 'HTML' is not defined"
                    ], 
                    "output_type": "error"
                }
            ], 
            "source": "df4 = df3.rename(index=str, columns={\"VAR0001\": \"Threat\", \"VAR0002\": \"Status\"})\ndisplay(HTML(df4.to_html(index=False)))"
        }, 
        {
            "source": "<a id=\"recode\"></a>\n#### Recode Variables", 
            "cell_type": "markdown", 
            "metadata": {}
        }, 
        {
            "source": "<a id=\"arecode\"></a>\n#### Autoecode Variables", 
            "cell_type": "markdown", 
            "metadata": {}
        }, 
        {
            "execution_count": 12, 
            "cell_type": "code", 
            "metadata": {}, 
            "outputs": [
                {
                    "output_type": "stream", 
                    "name": "stderr", 
                    "text": "/opt/conda/envs/DSX-Python35/lib/python3.5/site-packages/ipykernel/__main__.py:5: FutureWarning: Categorical.from_array is deprecated, use Categorical instead\n/opt/conda/envs/DSX-Python35/lib/python3.5/site-packages/ipykernel/__main__.py:5: FutureWarning: 'labels' is deprecated. Use 'codes' instead\n"
                }, 
                {
                    "output_type": "display_data", 
                    "data": {
                        "text/html": "<table border=\"1\" class=\"dataframe\">\n  <thead>\n    <tr style=\"text-align: right;\">\n      <th>ID</th>\n      <th>Threat</th>\n      <th>Status</th>\n      <th>Threat_Numeric</th>\n    </tr>\n  </thead>\n  <tbody>\n    <tr>\n      <td>1</td>\n      <td>A</td>\n      <td>0</td>\n      <td>0</td>\n    </tr>\n    <tr>\n      <td>2</td>\n      <td>B</td>\n      <td>0</td>\n      <td>1</td>\n    </tr>\n    <tr>\n      <td>3</td>\n      <td>C</td>\n      <td>0</td>\n      <td>2</td>\n    </tr>\n    <tr>\n      <td>4</td>\n      <td>D</td>\n      <td>E</td>\n      <td>3</td>\n    </tr>\n  </tbody>\n</table>", 
                        "text/plain": "<IPython.core.display.HTML object>"
                    }, 
                    "metadata": {}
                }
            ], 
            "source": "#renamed columns from earlier\ndf_cat = df3.rename(index=str, columns={\"VAR0001\": \"Threat\", \"VAR0002\": \"Status\"})\n\n#Autorecode String to Numberic in ascending order categorical.from_arry().labels\ndf_cat['Threat_Numeric'] = pd.Categorical.from_array(df_cat.Threat).labels\n\n#trick to drop ugly index column\nfrom IPython.display import display, HTML\ndisplay(HTML(df_cat.to_html(index=False)))"
        }, 
        {
            "execution_count": 13, 
            "cell_type": "code", 
            "metadata": {}, 
            "outputs": [
                {
                    "execution_count": 13, 
                    "metadata": {}, 
                    "data": {
                        "text/html": "<div>\n<style scoped>\n    .dataframe tbody tr th:only-of-type {\n        vertical-align: middle;\n    }\n\n    .dataframe tbody tr th {\n        vertical-align: top;\n    }\n\n    .dataframe thead th {\n        text-align: right;\n    }\n</style>\n<table border=\"1\" class=\"dataframe\">\n  <thead>\n    <tr style=\"text-align: right;\">\n      <th></th>\n      <th>ID</th>\n      <th>Threat</th>\n      <th>Status</th>\n    </tr>\n  </thead>\n  <tbody>\n    <tr>\n      <th>0</th>\n      <td>1</td>\n      <td>1</td>\n      <td>0</td>\n    </tr>\n    <tr>\n      <th>1</th>\n      <td>2</td>\n      <td>2</td>\n      <td>0</td>\n    </tr>\n    <tr>\n      <th>2</th>\n      <td>3</td>\n      <td>3</td>\n      <td>0</td>\n    </tr>\n    <tr>\n      <th>3</th>\n      <td>4</td>\n      <td>4</td>\n      <td>E</td>\n    </tr>\n  </tbody>\n</table>\n</div>", 
                        "text/plain": "   ID  Threat Status\n0   1       1      0\n1   2       2      0\n2   3       3      0\n3   4       4      E"
                    }, 
                    "output_type": "execute_result"
                }
            ], 
            "source": "#to numeric manual- regex may come in handy later\ndf4['Threat'] = df4['Threat'].replace(regex='A', value=1)\ndf4['Threat'] = df4['Threat'].replace(regex='B', value=2)\ndf4['Threat'] = df4['Threat'].replace(regex='C', value=3)\ndf4['Threat'] = df4['Threat'].replace(regex='D', value=4)\ndf4['Threat'] = df4['Threat'].replace(regex='E', value=5)\ndf4\n\n\n#df5 = df4.Threat.replace(to_replace=dict(A=None, B=Low, C= Medium, D= High)inplace=True)\n                         \n#w.female.replace(to_replace=dict(female=1, male=0), inplace=True)\n\n"
        }, 
        {
            "execution_count": 14, 
            "cell_type": "code", 
            "metadata": {}, 
            "outputs": [
                {
                    "execution_count": 14, 
                    "metadata": {}, 
                    "data": {
                        "text/html": "<div>\n<style scoped>\n    .dataframe tbody tr th:only-of-type {\n        vertical-align: middle;\n    }\n\n    .dataframe tbody tr th {\n        vertical-align: top;\n    }\n\n    .dataframe thead th {\n        text-align: right;\n    }\n</style>\n<table border=\"1\" class=\"dataframe\">\n  <thead>\n    <tr style=\"text-align: right;\">\n      <th></th>\n      <th>ID</th>\n      <th>Threat</th>\n      <th>Status</th>\n      <th>Threat_Numeric</th>\n    </tr>\n  </thead>\n  <tbody>\n    <tr>\n      <th>0</th>\n      <td>1</td>\n      <td>A</td>\n      <td>0</td>\n      <td>0</td>\n    </tr>\n    <tr>\n      <th>1</th>\n      <td>2</td>\n      <td>B</td>\n      <td>0</td>\n      <td>1</td>\n    </tr>\n    <tr>\n      <th>2</th>\n      <td>3</td>\n      <td>C</td>\n      <td>0</td>\n      <td>2</td>\n    </tr>\n    <tr>\n      <th>3</th>\n      <td>4</td>\n      <td>D</td>\n      <td>E</td>\n      <td>3</td>\n    </tr>\n  </tbody>\n</table>\n</div>", 
                        "text/plain": "   ID Threat Status  Threat_Numeric\n0   1      A      0               0\n1   2      B      0               1\n2   3      C      0               2\n3   4      D      E               3"
                    }, 
                    "output_type": "execute_result"
                }
            ], 
            "source": "df_cat"
        }, 
        {
            "execution_count": 15, 
            "cell_type": "code", 
            "metadata": {}, 
            "outputs": [
                {
                    "output_type": "display_data", 
                    "data": {
                        "text/html": "<table border=\"1\" class=\"dataframe\">\n  <thead>\n    <tr style=\"text-align: right;\">\n      <th>ID</th>\n      <th>Threat</th>\n      <th>Status</th>\n      <th>Threat_Numeric</th>\n    </tr>\n  </thead>\n  <tbody>\n    <tr>\n      <td>1</td>\n      <td>None</td>\n      <td>0</td>\n      <td>0</td>\n    </tr>\n    <tr>\n      <td>2</td>\n      <td>Low</td>\n      <td>0</td>\n      <td>1</td>\n    </tr>\n    <tr>\n      <td>3</td>\n      <td>Medium</td>\n      <td>0</td>\n      <td>2</td>\n    </tr>\n    <tr>\n      <td>4</td>\n      <td>High</td>\n      <td>E</td>\n      <td>3</td>\n    </tr>\n  </tbody>\n</table>", 
                        "text/plain": "<IPython.core.display.HTML object>"
                    }, 
                    "metadata": {}
                }
            ], 
            "source": "#manual recode string to string\ndf_cat['Threat'] = df_cat['Threat'].str.replace('A','None')\ndf_cat['Threat'] = df_cat['Threat'].str.replace('B','Low')\ndf_cat['Threat'] = df_cat['Threat'].str.replace('C','Medium')\ndf_cat['Threat'] = df_cat['Threat'].str.replace('D','High')\n\ndisplay(HTML(df_cat.to_html(index=False)))"
        }, 
        {
            "execution_count": 16, 
            "cell_type": "code", 
            "metadata": {}, 
            "outputs": [
                {
                    "execution_count": 16, 
                    "metadata": {}, 
                    "data": {
                        "text/plain": "0      None\n1       Low\n2    Medium\n3      High\nName: Threat, dtype: object"
                    }, 
                    "output_type": "execute_result"
                }
            ], 
            "source": "#manual recode string to string c\na = df_cat['Threat'] = df_cat['Threat'].str.replace('A','None')\na = df_cat['Threat'] = df_cat['Threat'].str.replace('B','Low')\na = df_cat['Threat'] = df_cat['Threat'].str.replace('C','Medium')\na = df_cat['Threat'] = df_cat['Threat'].str.replace('D','High')\n\na"
        }, 
        {
            "execution_count": 74, 
            "cell_type": "code", 
            "metadata": {}, 
            "outputs": [
                {
                    "ename": "SyntaxError", 
                    "evalue": "invalid syntax (<ipython-input-74-67e96a4385d2>, line 4)", 
                    "traceback": [
                        "\u001b[0;36m  File \u001b[0;32m\"<ipython-input-74-67e96a4385d2>\"\u001b[0;36m, line \u001b[0;32m4\u001b[0m\n\u001b[0;31m    df_cat = pd.concat([df_cat, pd.get_dummies(df_cat['Threat'], drop_first = True)], axis = 1])\u001b[0m\n\u001b[0m                                                                                              ^\u001b[0m\n\u001b[0;31mSyntaxError\u001b[0m\u001b[0;31m:\u001b[0m invalid syntax\n"
                    ], 
                    "output_type": "error"
                }
            ], 
            "source": "#WORK ON Get Dummies\ndf_cat = pd.concat([df_cat, pd.get_dummies(df_cat['Threat'], drop_first = True)], axis = 1])\ndf_cat.drop('female', axis = 1, inplace = True)"
        }, 
        {
            "source": "<font color=\"blue\">Use sklearn to import data sample</font> ", 
            "cell_type": "markdown", 
            "metadata": {}
        }, 
        {
            "execution_count": 94, 
            "cell_type": "code", 
            "metadata": {}, 
            "outputs": [
                {
                    "execution_count": 94, 
                    "metadata": {}, 
                    "data": {
                        "text/plain": "{'DESCR': 'Iris Plants Database\\n====================\\n\\nNotes\\n-----\\nData Set Characteristics:\\n    :Number of Instances: 150 (50 in each of three classes)\\n    :Number of Attributes: 4 numeric, predictive attributes and the class\\n    :Attribute Information:\\n        - sepal length in cm\\n        - sepal width in cm\\n        - petal length in cm\\n        - petal width in cm\\n        - class:\\n                - Iris-Setosa\\n                - Iris-Versicolour\\n                - Iris-Virginica\\n    :Summary Statistics:\\n\\n    ============== ==== ==== ======= ===== ====================\\n                    Min  Max   Mean    SD   Class Correlation\\n    ============== ==== ==== ======= ===== ====================\\n    sepal length:   4.3  7.9   5.84   0.83    0.7826\\n    sepal width:    2.0  4.4   3.05   0.43   -0.4194\\n    petal length:   1.0  6.9   3.76   1.76    0.9490  (high!)\\n    petal width:    0.1  2.5   1.20  0.76     0.9565  (high!)\\n    ============== ==== ==== ======= ===== ====================\\n\\n    :Missing Attribute Values: None\\n    :Class Distribution: 33.3% for each of 3 classes.\\n    :Creator: R.A. Fisher\\n    :Donor: Michael Marshall (MARSHALL%PLU@io.arc.nasa.gov)\\n    :Date: July, 1988\\n\\nThis is a copy of UCI ML iris datasets.\\nhttp://archive.ics.uci.edu/ml/datasets/Iris\\n\\nThe famous Iris database, first used by Sir R.A Fisher\\n\\nThis is perhaps the best known database to be found in the\\npattern recognition literature.  Fisher\\'s paper is a classic in the field and\\nis referenced frequently to this day.  (See Duda & Hart, for example.)  The\\ndata set contains 3 classes of 50 instances each, where each class refers to a\\ntype of iris plant.  One class is linearly separable from the other 2; the\\nlatter are NOT linearly separable from each other.\\n\\nReferences\\n----------\\n   - Fisher,R.A. \"The use of multiple measurements in taxonomic problems\"\\n     Annual Eugenics, 7, Part II, 179-188 (1936); also in \"Contributions to\\n     Mathematical Statistics\" (John Wiley, NY, 1950).\\n   - Duda,R.O., & Hart,P.E. (1973) Pattern Classification and Scene Analysis.\\n     (Q327.D83) John Wiley & Sons.  ISBN 0-471-22361-1.  See page 218.\\n   - Dasarathy, B.V. (1980) \"Nosing Around the Neighborhood: A New System\\n     Structure and Classification Rule for Recognition in Partially Exposed\\n     Environments\".  IEEE Transactions on Pattern Analysis and Machine\\n     Intelligence, Vol. PAMI-2, No. 1, 67-71.\\n   - Gates, G.W. (1972) \"The Reduced Nearest Neighbor Rule\".  IEEE Transactions\\n     on Information Theory, May 1972, 431-433.\\n   - See also: 1988 MLC Proceedings, 54-64.  Cheeseman et al\"s AUTOCLASS II\\n     conceptual clustering system finds 3 classes in the data.\\n   - Many, many more ...\\n',\n 'data': array([[ 5.1,  3.5,  1.4,  0.2],\n        [ 4.9,  3. ,  1.4,  0.2],\n        [ 4.7,  3.2,  1.3,  0.2],\n        [ 4.6,  3.1,  1.5,  0.2],\n        [ 5. ,  3.6,  1.4,  0.2],\n        [ 5.4,  3.9,  1.7,  0.4],\n        [ 4.6,  3.4,  1.4,  0.3],\n        [ 5. ,  3.4,  1.5,  0.2],\n        [ 4.4,  2.9,  1.4,  0.2],\n        [ 4.9,  3.1,  1.5,  0.1],\n        [ 5.4,  3.7,  1.5,  0.2],\n        [ 4.8,  3.4,  1.6,  0.2],\n        [ 4.8,  3. ,  1.4,  0.1],\n        [ 4.3,  3. ,  1.1,  0.1],\n        [ 5.8,  4. ,  1.2,  0.2],\n        [ 5.7,  4.4,  1.5,  0.4],\n        [ 5.4,  3.9,  1.3,  0.4],\n        [ 5.1,  3.5,  1.4,  0.3],\n        [ 5.7,  3.8,  1.7,  0.3],\n        [ 5.1,  3.8,  1.5,  0.3],\n        [ 5.4,  3.4,  1.7,  0.2],\n        [ 5.1,  3.7,  1.5,  0.4],\n        [ 4.6,  3.6,  1. ,  0.2],\n        [ 5.1,  3.3,  1.7,  0.5],\n        [ 4.8,  3.4,  1.9,  0.2],\n        [ 5. ,  3. ,  1.6,  0.2],\n        [ 5. ,  3.4,  1.6,  0.4],\n        [ 5.2,  3.5,  1.5,  0.2],\n        [ 5.2,  3.4,  1.4,  0.2],\n        [ 4.7,  3.2,  1.6,  0.2],\n        [ 4.8,  3.1,  1.6,  0.2],\n        [ 5.4,  3.4,  1.5,  0.4],\n        [ 5.2,  4.1,  1.5,  0.1],\n        [ 5.5,  4.2,  1.4,  0.2],\n        [ 4.9,  3.1,  1.5,  0.1],\n        [ 5. ,  3.2,  1.2,  0.2],\n        [ 5.5,  3.5,  1.3,  0.2],\n        [ 4.9,  3.1,  1.5,  0.1],\n        [ 4.4,  3. ,  1.3,  0.2],\n        [ 5.1,  3.4,  1.5,  0.2],\n        [ 5. ,  3.5,  1.3,  0.3],\n        [ 4.5,  2.3,  1.3,  0.3],\n        [ 4.4,  3.2,  1.3,  0.2],\n        [ 5. ,  3.5,  1.6,  0.6],\n        [ 5.1,  3.8,  1.9,  0.4],\n        [ 4.8,  3. ,  1.4,  0.3],\n        [ 5.1,  3.8,  1.6,  0.2],\n        [ 4.6,  3.2,  1.4,  0.2],\n        [ 5.3,  3.7,  1.5,  0.2],\n        [ 5. ,  3.3,  1.4,  0.2],\n        [ 7. ,  3.2,  4.7,  1.4],\n        [ 6.4,  3.2,  4.5,  1.5],\n        [ 6.9,  3.1,  4.9,  1.5],\n        [ 5.5,  2.3,  4. ,  1.3],\n        [ 6.5,  2.8,  4.6,  1.5],\n        [ 5.7,  2.8,  4.5,  1.3],\n        [ 6.3,  3.3,  4.7,  1.6],\n        [ 4.9,  2.4,  3.3,  1. ],\n        [ 6.6,  2.9,  4.6,  1.3],\n        [ 5.2,  2.7,  3.9,  1.4],\n        [ 5. ,  2. ,  3.5,  1. ],\n        [ 5.9,  3. ,  4.2,  1.5],\n        [ 6. ,  2.2,  4. ,  1. ],\n        [ 6.1,  2.9,  4.7,  1.4],\n        [ 5.6,  2.9,  3.6,  1.3],\n        [ 6.7,  3.1,  4.4,  1.4],\n        [ 5.6,  3. ,  4.5,  1.5],\n        [ 5.8,  2.7,  4.1,  1. ],\n        [ 6.2,  2.2,  4.5,  1.5],\n        [ 5.6,  2.5,  3.9,  1.1],\n        [ 5.9,  3.2,  4.8,  1.8],\n        [ 6.1,  2.8,  4. ,  1.3],\n        [ 6.3,  2.5,  4.9,  1.5],\n        [ 6.1,  2.8,  4.7,  1.2],\n        [ 6.4,  2.9,  4.3,  1.3],\n        [ 6.6,  3. ,  4.4,  1.4],\n        [ 6.8,  2.8,  4.8,  1.4],\n        [ 6.7,  3. ,  5. ,  1.7],\n        [ 6. ,  2.9,  4.5,  1.5],\n        [ 5.7,  2.6,  3.5,  1. ],\n        [ 5.5,  2.4,  3.8,  1.1],\n        [ 5.5,  2.4,  3.7,  1. ],\n        [ 5.8,  2.7,  3.9,  1.2],\n        [ 6. ,  2.7,  5.1,  1.6],\n        [ 5.4,  3. ,  4.5,  1.5],\n        [ 6. ,  3.4,  4.5,  1.6],\n        [ 6.7,  3.1,  4.7,  1.5],\n        [ 6.3,  2.3,  4.4,  1.3],\n        [ 5.6,  3. ,  4.1,  1.3],\n        [ 5.5,  2.5,  4. ,  1.3],\n        [ 5.5,  2.6,  4.4,  1.2],\n        [ 6.1,  3. ,  4.6,  1.4],\n        [ 5.8,  2.6,  4. ,  1.2],\n        [ 5. ,  2.3,  3.3,  1. ],\n        [ 5.6,  2.7,  4.2,  1.3],\n        [ 5.7,  3. ,  4.2,  1.2],\n        [ 5.7,  2.9,  4.2,  1.3],\n        [ 6.2,  2.9,  4.3,  1.3],\n        [ 5.1,  2.5,  3. ,  1.1],\n        [ 5.7,  2.8,  4.1,  1.3],\n        [ 6.3,  3.3,  6. ,  2.5],\n        [ 5.8,  2.7,  5.1,  1.9],\n        [ 7.1,  3. ,  5.9,  2.1],\n        [ 6.3,  2.9,  5.6,  1.8],\n        [ 6.5,  3. ,  5.8,  2.2],\n        [ 7.6,  3. ,  6.6,  2.1],\n        [ 4.9,  2.5,  4.5,  1.7],\n        [ 7.3,  2.9,  6.3,  1.8],\n        [ 6.7,  2.5,  5.8,  1.8],\n        [ 7.2,  3.6,  6.1,  2.5],\n        [ 6.5,  3.2,  5.1,  2. ],\n        [ 6.4,  2.7,  5.3,  1.9],\n        [ 6.8,  3. ,  5.5,  2.1],\n        [ 5.7,  2.5,  5. ,  2. ],\n        [ 5.8,  2.8,  5.1,  2.4],\n        [ 6.4,  3.2,  5.3,  2.3],\n        [ 6.5,  3. ,  5.5,  1.8],\n        [ 7.7,  3.8,  6.7,  2.2],\n        [ 7.7,  2.6,  6.9,  2.3],\n        [ 6. ,  2.2,  5. ,  1.5],\n        [ 6.9,  3.2,  5.7,  2.3],\n        [ 5.6,  2.8,  4.9,  2. ],\n        [ 7.7,  2.8,  6.7,  2. ],\n        [ 6.3,  2.7,  4.9,  1.8],\n        [ 6.7,  3.3,  5.7,  2.1],\n        [ 7.2,  3.2,  6. ,  1.8],\n        [ 6.2,  2.8,  4.8,  1.8],\n        [ 6.1,  3. ,  4.9,  1.8],\n        [ 6.4,  2.8,  5.6,  2.1],\n        [ 7.2,  3. ,  5.8,  1.6],\n        [ 7.4,  2.8,  6.1,  1.9],\n        [ 7.9,  3.8,  6.4,  2. ],\n        [ 6.4,  2.8,  5.6,  2.2],\n        [ 6.3,  2.8,  5.1,  1.5],\n        [ 6.1,  2.6,  5.6,  1.4],\n        [ 7.7,  3. ,  6.1,  2.3],\n        [ 6.3,  3.4,  5.6,  2.4],\n        [ 6.4,  3.1,  5.5,  1.8],\n        [ 6. ,  3. ,  4.8,  1.8],\n        [ 6.9,  3.1,  5.4,  2.1],\n        [ 6.7,  3.1,  5.6,  2.4],\n        [ 6.9,  3.1,  5.1,  2.3],\n        [ 5.8,  2.7,  5.1,  1.9],\n        [ 6.8,  3.2,  5.9,  2.3],\n        [ 6.7,  3.3,  5.7,  2.5],\n        [ 6.7,  3. ,  5.2,  2.3],\n        [ 6.3,  2.5,  5. ,  1.9],\n        [ 6.5,  3. ,  5.2,  2. ],\n        [ 6.2,  3.4,  5.4,  2.3],\n        [ 5.9,  3. ,  5.1,  1.8]]),\n 'feature_names': ['sepal length (cm)',\n  'sepal width (cm)',\n  'petal length (cm)',\n  'petal width (cm)'],\n 'target': array([0, 0, 0, 0, 0, 0, 0, 0, 0, 0, 0, 0, 0, 0, 0, 0, 0, 0, 0, 0, 0, 0, 0,\n        0, 0, 0, 0, 0, 0, 0, 0, 0, 0, 0, 0, 0, 0, 0, 0, 0, 0, 0, 0, 0, 0, 0,\n        0, 0, 0, 0, 1, 1, 1, 1, 1, 1, 1, 1, 1, 1, 1, 1, 1, 1, 1, 1, 1, 1, 1,\n        1, 1, 1, 1, 1, 1, 1, 1, 1, 1, 1, 1, 1, 1, 1, 1, 1, 1, 1, 1, 1, 1, 1,\n        1, 1, 1, 1, 1, 1, 1, 1, 2, 2, 2, 2, 2, 2, 2, 2, 2, 2, 2, 2, 2, 2, 2,\n        2, 2, 2, 2, 2, 2, 2, 2, 2, 2, 2, 2, 2, 2, 2, 2, 2, 2, 2, 2, 2, 2, 2,\n        2, 2, 2, 2, 2, 2, 2, 2, 2, 2, 2, 2]),\n 'target_names': array(['setosa', 'versicolor', 'virginica'],\n       dtype='<U10')}"
                    }, 
                    "output_type": "execute_result"
                }
            ], 
            "source": "df"
        }, 
        {
            "execution_count": 104, 
            "cell_type": "code", 
            "metadata": {}, 
            "outputs": [
                {
                    "output_type": "stream", 
                    "name": "stdout", 
                    "text": "<class 'sklearn.utils.Bunch'>\n"
                }, 
                {
                    "ename": "AttributeError", 
                    "evalue": "'DataFrame' object has no attribute 'target'", 
                    "traceback": [
                        "\u001b[0;31m---------------------------------------------------------------------------\u001b[0m", 
                        "\u001b[0;31mAttributeError\u001b[0m                            Traceback (most recent call last)", 
                        "\u001b[0;32m<ipython-input-104-056293f71af9>\u001b[0m in \u001b[0;36m<module>\u001b[0;34m()\u001b[0m\n\u001b[1;32m     10\u001b[0m \u001b[0miris_data1\u001b[0m \u001b[0;34m=\u001b[0m \u001b[0mdatasets\u001b[0m\u001b[0;34m.\u001b[0m\u001b[0mload_iris\u001b[0m\u001b[0;34m(\u001b[0m\u001b[0;34m)\u001b[0m\u001b[0;34m\u001b[0m\u001b[0m\n\u001b[1;32m     11\u001b[0m \u001b[0miris_data\u001b[0m \u001b[0;34m=\u001b[0m \u001b[0mpd\u001b[0m\u001b[0;34m.\u001b[0m\u001b[0mDataFrame\u001b[0m\u001b[0;34m(\u001b[0m\u001b[0miris_data\u001b[0m\u001b[0;34m.\u001b[0m\u001b[0mdata\u001b[0m\u001b[0;34m,\u001b[0m\u001b[0mcolumns\u001b[0m\u001b[0;34m=\u001b[0m\u001b[0miris_data\u001b[0m\u001b[0;34m.\u001b[0m\u001b[0mfeature_names\u001b[0m\u001b[0;34m)\u001b[0m\u001b[0;34m\u001b[0m\u001b[0m\n\u001b[0;32m---> 12\u001b[0;31m \u001b[0miris_data1\u001b[0m\u001b[0;34m=\u001b[0m \u001b[0mpd\u001b[0m\u001b[0;34m.\u001b[0m\u001b[0mDataFrame\u001b[0m\u001b[0;34m(\u001b[0m\u001b[0miris_data1\u001b[0m\u001b[0;34m.\u001b[0m\u001b[0mdata\u001b[0m\u001b[0;34m,\u001b[0m\u001b[0mcolumns\u001b[0m\u001b[0;34m=\u001b[0m\u001b[0miris_data\u001b[0m\u001b[0;34m.\u001b[0m\u001b[0mtarget\u001b[0m\u001b[0;34m)\u001b[0m\u001b[0;34m\u001b[0m\u001b[0m\n\u001b[0m\u001b[1;32m     13\u001b[0m \u001b[0;31m#df_iris['target'] = pd.Series(iris_data.target_names)\u001b[0m\u001b[0;34m\u001b[0m\u001b[0;34m\u001b[0m\u001b[0m\n\u001b[1;32m     14\u001b[0m \u001b[0miris_data1\u001b[0m\u001b[0;34m.\u001b[0m\u001b[0mhead\u001b[0m\u001b[0;34m(\u001b[0m\u001b[0;34m)\u001b[0m\u001b[0;34m\u001b[0m\u001b[0m\n", 
                        "\u001b[0;32m/opt/conda/envs/DSX-Python35/lib/python3.5/site-packages/pandas/core/generic.py\u001b[0m in \u001b[0;36m__getattr__\u001b[0;34m(self, name)\u001b[0m\n\u001b[1;32m   3612\u001b[0m             \u001b[0;32mif\u001b[0m \u001b[0mname\u001b[0m \u001b[0;32min\u001b[0m \u001b[0mself\u001b[0m\u001b[0;34m.\u001b[0m\u001b[0m_info_axis\u001b[0m\u001b[0;34m:\u001b[0m\u001b[0;34m\u001b[0m\u001b[0m\n\u001b[1;32m   3613\u001b[0m                 \u001b[0;32mreturn\u001b[0m \u001b[0mself\u001b[0m\u001b[0;34m[\u001b[0m\u001b[0mname\u001b[0m\u001b[0;34m]\u001b[0m\u001b[0;34m\u001b[0m\u001b[0m\n\u001b[0;32m-> 3614\u001b[0;31m             \u001b[0;32mreturn\u001b[0m \u001b[0mobject\u001b[0m\u001b[0;34m.\u001b[0m\u001b[0m__getattribute__\u001b[0m\u001b[0;34m(\u001b[0m\u001b[0mself\u001b[0m\u001b[0;34m,\u001b[0m \u001b[0mname\u001b[0m\u001b[0;34m)\u001b[0m\u001b[0;34m\u001b[0m\u001b[0m\n\u001b[0m\u001b[1;32m   3615\u001b[0m \u001b[0;34m\u001b[0m\u001b[0m\n\u001b[1;32m   3616\u001b[0m     \u001b[0;32mdef\u001b[0m \u001b[0m__setattr__\u001b[0m\u001b[0;34m(\u001b[0m\u001b[0mself\u001b[0m\u001b[0;34m,\u001b[0m \u001b[0mname\u001b[0m\u001b[0;34m,\u001b[0m \u001b[0mvalue\u001b[0m\u001b[0;34m)\u001b[0m\u001b[0;34m:\u001b[0m\u001b[0;34m\u001b[0m\u001b[0m\n", 
                        "\u001b[0;31mAttributeError\u001b[0m: 'DataFrame' object has no attribute 'target'"
                    ], 
                    "output_type": "error"
                }
            ], 
            "source": "#import data from sklearn using load_\nimport pandas as pd\nfrom sklearn import datasets as d\ndf = d.load_iris()\nprint(type(df))\ndf\n\n#convert to pandas dataset\niris_data = datasets.load_iris()\niris_data1 = datasets.load_iris()\niris_data = pd.DataFrame(iris_data.data,columns=iris_data.feature_names)\niris_data1= pd.DataFrame(iris_data1.data,columns=iris_data.target)\n#df_iris['target'] = pd.Series(iris_data.target_names)\niris_data1.head()\n\n# boston_data = datasets.load_boston()\n# df_boston = pd.DataFrame(boston_data.data,columns=boston_data.feature_names)\n# df_boston['target'] = pd.Series(boston_data.target)\n# df_boston.head()\n\n     "
        }, 
        {
            "execution_count": 97, 
            "cell_type": "code", 
            "metadata": {}, 
            "outputs": [
                {
                    "execution_count": 97, 
                    "metadata": {}, 
                    "data": {
                        "text/html": "<div>\n<style scoped>\n    .dataframe tbody tr th:only-of-type {\n        vertical-align: middle;\n    }\n\n    .dataframe tbody tr th {\n        vertical-align: top;\n    }\n\n    .dataframe thead th {\n        text-align: right;\n    }\n</style>\n<table border=\"1\" class=\"dataframe\">\n  <thead>\n    <tr style=\"text-align: right;\">\n      <th></th>\n      <th>CRIM</th>\n      <th>ZN</th>\n      <th>INDUS</th>\n      <th>CHAS</th>\n      <th>NOX</th>\n      <th>RM</th>\n      <th>AGE</th>\n      <th>DIS</th>\n      <th>RAD</th>\n      <th>TAX</th>\n      <th>PTRATIO</th>\n      <th>B</th>\n      <th>LSTAT</th>\n      <th>target</th>\n    </tr>\n  </thead>\n  <tbody>\n    <tr>\n      <th>0</th>\n      <td>6.32e-03</td>\n      <td>18.0</td>\n      <td>2.31</td>\n      <td>0.0</td>\n      <td>0.54</td>\n      <td>6.58</td>\n      <td>65.2</td>\n      <td>4.09</td>\n      <td>1.0</td>\n      <td>296.0</td>\n      <td>15.3</td>\n      <td>396.90</td>\n      <td>4.98</td>\n      <td>24.0</td>\n    </tr>\n    <tr>\n      <th>1</th>\n      <td>2.73e-02</td>\n      <td>0.0</td>\n      <td>7.07</td>\n      <td>0.0</td>\n      <td>0.47</td>\n      <td>6.42</td>\n      <td>78.9</td>\n      <td>4.97</td>\n      <td>2.0</td>\n      <td>242.0</td>\n      <td>17.8</td>\n      <td>396.90</td>\n      <td>9.14</td>\n      <td>21.6</td>\n    </tr>\n    <tr>\n      <th>2</th>\n      <td>2.73e-02</td>\n      <td>0.0</td>\n      <td>7.07</td>\n      <td>0.0</td>\n      <td>0.47</td>\n      <td>7.18</td>\n      <td>61.1</td>\n      <td>4.97</td>\n      <td>2.0</td>\n      <td>242.0</td>\n      <td>17.8</td>\n      <td>392.83</td>\n      <td>4.03</td>\n      <td>34.7</td>\n    </tr>\n    <tr>\n      <th>3</th>\n      <td>3.24e-02</td>\n      <td>0.0</td>\n      <td>2.18</td>\n      <td>0.0</td>\n      <td>0.46</td>\n      <td>7.00</td>\n      <td>45.8</td>\n      <td>6.06</td>\n      <td>3.0</td>\n      <td>222.0</td>\n      <td>18.7</td>\n      <td>394.63</td>\n      <td>2.94</td>\n      <td>33.4</td>\n    </tr>\n    <tr>\n      <th>4</th>\n      <td>6.91e-02</td>\n      <td>0.0</td>\n      <td>2.18</td>\n      <td>0.0</td>\n      <td>0.46</td>\n      <td>7.15</td>\n      <td>54.2</td>\n      <td>6.06</td>\n      <td>3.0</td>\n      <td>222.0</td>\n      <td>18.7</td>\n      <td>396.90</td>\n      <td>5.33</td>\n      <td>36.2</td>\n    </tr>\n  </tbody>\n</table>\n</div>", 
                        "text/plain": "       CRIM    ZN  INDUS  CHAS   NOX    RM   AGE   DIS  RAD    TAX  PTRATIO  \\\n0  6.32e-03  18.0   2.31   0.0  0.54  6.58  65.2  4.09  1.0  296.0     15.3   \n1  2.73e-02   0.0   7.07   0.0  0.47  6.42  78.9  4.97  2.0  242.0     17.8   \n2  2.73e-02   0.0   7.07   0.0  0.47  7.18  61.1  4.97  2.0  242.0     17.8   \n3  3.24e-02   0.0   2.18   0.0  0.46  7.00  45.8  6.06  3.0  222.0     18.7   \n4  6.91e-02   0.0   2.18   0.0  0.46  7.15  54.2  6.06  3.0  222.0     18.7   \n\n        B  LSTAT  target  \n0  396.90   4.98    24.0  \n1  396.90   9.14    21.6  \n2  392.83   4.03    34.7  \n3  394.63   2.94    33.4  \n4  396.90   5.33    36.2  "
                    }, 
                    "output_type": "execute_result"
                }
            ], 
            "source": "from sklearn import datasets\nimport pandas as pd\n\nboston_data = datasets.load_boston()\ndf_boston = pd.DataFrame(boston_data.data,columns=boston_data.feature_names)\ndf_boston['target'] = pd.Series(boston_data.target)\ndf_boston.head()"
        }, 
        {
            "execution_count": 98, 
            "cell_type": "code", 
            "metadata": {}, 
            "outputs": [
                {
                    "execution_count": 98, 
                    "metadata": {}, 
                    "data": {
                        "text/plain": "{'DESCR': \"Boston House Prices dataset\\n===========================\\n\\nNotes\\n------\\nData Set Characteristics:  \\n\\n    :Number of Instances: 506 \\n\\n    :Number of Attributes: 13 numeric/categorical predictive\\n    \\n    :Median Value (attribute 14) is usually the target\\n\\n    :Attribute Information (in order):\\n        - CRIM     per capita crime rate by town\\n        - ZN       proportion of residential land zoned for lots over 25,000 sq.ft.\\n        - INDUS    proportion of non-retail business acres per town\\n        - CHAS     Charles River dummy variable (= 1 if tract bounds river; 0 otherwise)\\n        - NOX      nitric oxides concentration (parts per 10 million)\\n        - RM       average number of rooms per dwelling\\n        - AGE      proportion of owner-occupied units built prior to 1940\\n        - DIS      weighted distances to five Boston employment centres\\n        - RAD      index of accessibility to radial highways\\n        - TAX      full-value property-tax rate per $10,000\\n        - PTRATIO  pupil-teacher ratio by town\\n        - B        1000(Bk - 0.63)^2 where Bk is the proportion of blacks by town\\n        - LSTAT    % lower status of the population\\n        - MEDV     Median value of owner-occupied homes in $1000's\\n\\n    :Missing Attribute Values: None\\n\\n    :Creator: Harrison, D. and Rubinfeld, D.L.\\n\\nThis is a copy of UCI ML housing dataset.\\nhttp://archive.ics.uci.edu/ml/datasets/Housing\\n\\n\\nThis dataset was taken from the StatLib library which is maintained at Carnegie Mellon University.\\n\\nThe Boston house-price data of Harrison, D. and Rubinfeld, D.L. 'Hedonic\\nprices and the demand for clean air', J. Environ. Economics & Management,\\nvol.5, 81-102, 1978.   Used in Belsley, Kuh & Welsch, 'Regression diagnostics\\n...', Wiley, 1980.   N.B. Various transformations are used in the table on\\npages 244-261 of the latter.\\n\\nThe Boston house-price data has been used in many machine learning papers that address regression\\nproblems.   \\n     \\n**References**\\n\\n   - Belsley, Kuh & Welsch, 'Regression diagnostics: Identifying Influential Data and Sources of Collinearity', Wiley, 1980. 244-261.\\n   - Quinlan,R. (1993). Combining Instance-Based and Model-Based Learning. In Proceedings on the Tenth International Conference of Machine Learning, 236-243, University of Massachusetts, Amherst. Morgan Kaufmann.\\n   - many more! (see http://archive.ics.uci.edu/ml/datasets/Housing)\\n\",\n 'data': array([[  6.32000000e-03,   1.80000000e+01,   2.31000000e+00, ...,\n           1.53000000e+01,   3.96900000e+02,   4.98000000e+00],\n        [  2.73100000e-02,   0.00000000e+00,   7.07000000e+00, ...,\n           1.78000000e+01,   3.96900000e+02,   9.14000000e+00],\n        [  2.72900000e-02,   0.00000000e+00,   7.07000000e+00, ...,\n           1.78000000e+01,   3.92830000e+02,   4.03000000e+00],\n        ..., \n        [  6.07600000e-02,   0.00000000e+00,   1.19300000e+01, ...,\n           2.10000000e+01,   3.96900000e+02,   5.64000000e+00],\n        [  1.09590000e-01,   0.00000000e+00,   1.19300000e+01, ...,\n           2.10000000e+01,   3.93450000e+02,   6.48000000e+00],\n        [  4.74100000e-02,   0.00000000e+00,   1.19300000e+01, ...,\n           2.10000000e+01,   3.96900000e+02,   7.88000000e+00]]),\n 'feature_names': array(['CRIM', 'ZN', 'INDUS', 'CHAS', 'NOX', 'RM', 'AGE', 'DIS', 'RAD',\n        'TAX', 'PTRATIO', 'B', 'LSTAT'],\n       dtype='<U7'),\n 'target': array([ 24. ,  21.6,  34.7,  33.4,  36.2,  28.7,  22.9,  27.1,  16.5,\n         18.9,  15. ,  18.9,  21.7,  20.4,  18.2,  19.9,  23.1,  17.5,\n         20.2,  18.2,  13.6,  19.6,  15.2,  14.5,  15.6,  13.9,  16.6,\n         14.8,  18.4,  21. ,  12.7,  14.5,  13.2,  13.1,  13.5,  18.9,\n         20. ,  21. ,  24.7,  30.8,  34.9,  26.6,  25.3,  24.7,  21.2,\n         19.3,  20. ,  16.6,  14.4,  19.4,  19.7,  20.5,  25. ,  23.4,\n         18.9,  35.4,  24.7,  31.6,  23.3,  19.6,  18.7,  16. ,  22.2,\n         25. ,  33. ,  23.5,  19.4,  22. ,  17.4,  20.9,  24.2,  21.7,\n         22.8,  23.4,  24.1,  21.4,  20. ,  20.8,  21.2,  20.3,  28. ,\n         23.9,  24.8,  22.9,  23.9,  26.6,  22.5,  22.2,  23.6,  28.7,\n         22.6,  22. ,  22.9,  25. ,  20.6,  28.4,  21.4,  38.7,  43.8,\n         33.2,  27.5,  26.5,  18.6,  19.3,  20.1,  19.5,  19.5,  20.4,\n         19.8,  19.4,  21.7,  22.8,  18.8,  18.7,  18.5,  18.3,  21.2,\n         19.2,  20.4,  19.3,  22. ,  20.3,  20.5,  17.3,  18.8,  21.4,\n         15.7,  16.2,  18. ,  14.3,  19.2,  19.6,  23. ,  18.4,  15.6,\n         18.1,  17.4,  17.1,  13.3,  17.8,  14. ,  14.4,  13.4,  15.6,\n         11.8,  13.8,  15.6,  14.6,  17.8,  15.4,  21.5,  19.6,  15.3,\n         19.4,  17. ,  15.6,  13.1,  41.3,  24.3,  23.3,  27. ,  50. ,\n         50. ,  50. ,  22.7,  25. ,  50. ,  23.8,  23.8,  22.3,  17.4,\n         19.1,  23.1,  23.6,  22.6,  29.4,  23.2,  24.6,  29.9,  37.2,\n         39.8,  36.2,  37.9,  32.5,  26.4,  29.6,  50. ,  32. ,  29.8,\n         34.9,  37. ,  30.5,  36.4,  31.1,  29.1,  50. ,  33.3,  30.3,\n         34.6,  34.9,  32.9,  24.1,  42.3,  48.5,  50. ,  22.6,  24.4,\n         22.5,  24.4,  20. ,  21.7,  19.3,  22.4,  28.1,  23.7,  25. ,\n         23.3,  28.7,  21.5,  23. ,  26.7,  21.7,  27.5,  30.1,  44.8,\n         50. ,  37.6,  31.6,  46.7,  31.5,  24.3,  31.7,  41.7,  48.3,\n         29. ,  24. ,  25.1,  31.5,  23.7,  23.3,  22. ,  20.1,  22.2,\n         23.7,  17.6,  18.5,  24.3,  20.5,  24.5,  26.2,  24.4,  24.8,\n         29.6,  42.8,  21.9,  20.9,  44. ,  50. ,  36. ,  30.1,  33.8,\n         43.1,  48.8,  31. ,  36.5,  22.8,  30.7,  50. ,  43.5,  20.7,\n         21.1,  25.2,  24.4,  35.2,  32.4,  32. ,  33.2,  33.1,  29.1,\n         35.1,  45.4,  35.4,  46. ,  50. ,  32.2,  22. ,  20.1,  23.2,\n         22.3,  24.8,  28.5,  37.3,  27.9,  23.9,  21.7,  28.6,  27.1,\n         20.3,  22.5,  29. ,  24.8,  22. ,  26.4,  33.1,  36.1,  28.4,\n         33.4,  28.2,  22.8,  20.3,  16.1,  22.1,  19.4,  21.6,  23.8,\n         16.2,  17.8,  19.8,  23.1,  21. ,  23.8,  23.1,  20.4,  18.5,\n         25. ,  24.6,  23. ,  22.2,  19.3,  22.6,  19.8,  17.1,  19.4,\n         22.2,  20.7,  21.1,  19.5,  18.5,  20.6,  19. ,  18.7,  32.7,\n         16.5,  23.9,  31.2,  17.5,  17.2,  23.1,  24.5,  26.6,  22.9,\n         24.1,  18.6,  30.1,  18.2,  20.6,  17.8,  21.7,  22.7,  22.6,\n         25. ,  19.9,  20.8,  16.8,  21.9,  27.5,  21.9,  23.1,  50. ,\n         50. ,  50. ,  50. ,  50. ,  13.8,  13.8,  15. ,  13.9,  13.3,\n         13.1,  10.2,  10.4,  10.9,  11.3,  12.3,   8.8,   7.2,  10.5,\n          7.4,  10.2,  11.5,  15.1,  23.2,   9.7,  13.8,  12.7,  13.1,\n         12.5,   8.5,   5. ,   6.3,   5.6,   7.2,  12.1,   8.3,   8.5,\n          5. ,  11.9,  27.9,  17.2,  27.5,  15. ,  17.2,  17.9,  16.3,\n          7. ,   7.2,   7.5,  10.4,   8.8,   8.4,  16.7,  14.2,  20.8,\n         13.4,  11.7,   8.3,  10.2,  10.9,  11. ,   9.5,  14.5,  14.1,\n         16.1,  14.3,  11.7,  13.4,   9.6,   8.7,   8.4,  12.8,  10.5,\n         17.1,  18.4,  15.4,  10.8,  11.8,  14.9,  12.6,  14.1,  13. ,\n         13.4,  15.2,  16.1,  17.8,  14.9,  14.1,  12.7,  13.5,  14.9,\n         20. ,  16.4,  17.7,  19.5,  20.2,  21.4,  19.9,  19. ,  19.1,\n         19.1,  20.1,  19.9,  19.6,  23.2,  29.8,  13.8,  13.3,  16.7,\n         12. ,  14.6,  21.4,  23. ,  23.7,  25. ,  21.8,  20.6,  21.2,\n         19.1,  20.6,  15.2,   7. ,   8.1,  13.6,  20.1,  21.8,  24.5,\n         23.1,  19.7,  18.3,  21.2,  17.5,  16.8,  22.4,  20.6,  23.9,\n         22. ,  11.9])}"
                    }, 
                    "output_type": "execute_result"
                }
            ], 
            "source": "boston_data"
        }, 
        {
            "source": "<b> Select Columns and Rows<b/>", 
            "cell_type": "markdown", 
            "metadata": {}
        }, 
        {
            "source": "<font color=\"blue\">Select Columns and Rows by Number</font> ", 
            "cell_type": "markdown", 
            "metadata": {}
        }, 
        {
            "execution_count": 82, 
            "cell_type": "code", 
            "metadata": {}, 
            "outputs": [
                {
                    "ename": "AttributeError", 
                    "evalue": "columns", 
                    "traceback": [
                        "\u001b[0;31m---------------------------------------------------------------------------\u001b[0m", 
                        "\u001b[0;31mKeyError\u001b[0m                                  Traceback (most recent call last)", 
                        "\u001b[0;32m/opt/conda/envs/DSX-Python35/lib/python3.5/site-packages/sklearn/utils/__init__.py\u001b[0m in \u001b[0;36m__getattr__\u001b[0;34m(self, key)\u001b[0m\n\u001b[1;32m     60\u001b[0m         \u001b[0;32mtry\u001b[0m\u001b[0;34m:\u001b[0m\u001b[0;34m\u001b[0m\u001b[0m\n\u001b[0;32m---> 61\u001b[0;31m             \u001b[0;32mreturn\u001b[0m \u001b[0mself\u001b[0m\u001b[0;34m[\u001b[0m\u001b[0mkey\u001b[0m\u001b[0;34m]\u001b[0m\u001b[0;34m\u001b[0m\u001b[0m\n\u001b[0m\u001b[1;32m     62\u001b[0m         \u001b[0;32mexcept\u001b[0m \u001b[0mKeyError\u001b[0m\u001b[0;34m:\u001b[0m\u001b[0;34m\u001b[0m\u001b[0m\n", 
                        "\u001b[0;31mKeyError\u001b[0m: 'columns'", 
                        "\nDuring handling of the above exception, another exception occurred:\n", 
                        "\u001b[0;31mAttributeError\u001b[0m                            Traceback (most recent call last)", 
                        "\u001b[0;32m<ipython-input-82-e58c31f3b476>\u001b[0m in \u001b[0;36m<module>\u001b[0;34m()\u001b[0m\n\u001b[1;32m      6\u001b[0m \u001b[0;31m#df.colummns selects first 4 columns of data. ix selects 1st, 2nd, 3rd and 7th rows of the table\u001b[0m\u001b[0;34m\u001b[0m\u001b[0;34m\u001b[0m\u001b[0m\n\u001b[1;32m      7\u001b[0m \u001b[0mpd\u001b[0m\u001b[0;34m.\u001b[0m\u001b[0mset_option\u001b[0m\u001b[0;34m(\u001b[0m\u001b[0;34m'precision'\u001b[0m\u001b[0;34m,\u001b[0m\u001b[0;36m2\u001b[0m\u001b[0;34m)\u001b[0m\u001b[0;34m\u001b[0m\u001b[0m\n\u001b[0;32m----> 8\u001b[0;31m \u001b[0mdf\u001b[0m\u001b[0;34m[\u001b[0m\u001b[0mdf\u001b[0m\u001b[0;34m.\u001b[0m\u001b[0mcolumns\u001b[0m\u001b[0;34m[\u001b[0m\u001b[0;34m:\u001b[0m\u001b[0;36m4\u001b[0m\u001b[0;34m]\u001b[0m\u001b[0;34m]\u001b[0m\u001b[0;34m.\u001b[0m\u001b[0mdescribe\u001b[0m\u001b[0;34m(\u001b[0m\u001b[0;34m)\u001b[0m\u001b[0;34m.\u001b[0m\u001b[0mix\u001b[0m\u001b[0;34m[\u001b[0m\u001b[0;34m[\u001b[0m\u001b[0;36m1\u001b[0m\u001b[0;34m,\u001b[0m\u001b[0;36m2\u001b[0m\u001b[0;34m,\u001b[0m\u001b[0;36m3\u001b[0m\u001b[0;34m,\u001b[0m\u001b[0;36m7\u001b[0m\u001b[0;34m]\u001b[0m\u001b[0;34m]\u001b[0m\u001b[0;34m\u001b[0m\u001b[0m\n\u001b[0m", 
                        "\u001b[0;32m/opt/conda/envs/DSX-Python35/lib/python3.5/site-packages/sklearn/utils/__init__.py\u001b[0m in \u001b[0;36m__getattr__\u001b[0;34m(self, key)\u001b[0m\n\u001b[1;32m     61\u001b[0m             \u001b[0;32mreturn\u001b[0m \u001b[0mself\u001b[0m\u001b[0;34m[\u001b[0m\u001b[0mkey\u001b[0m\u001b[0;34m]\u001b[0m\u001b[0;34m\u001b[0m\u001b[0m\n\u001b[1;32m     62\u001b[0m         \u001b[0;32mexcept\u001b[0m \u001b[0mKeyError\u001b[0m\u001b[0;34m:\u001b[0m\u001b[0;34m\u001b[0m\u001b[0m\n\u001b[0;32m---> 63\u001b[0;31m             \u001b[0;32mraise\u001b[0m \u001b[0mAttributeError\u001b[0m\u001b[0;34m(\u001b[0m\u001b[0mkey\u001b[0m\u001b[0;34m)\u001b[0m\u001b[0;34m\u001b[0m\u001b[0m\n\u001b[0m\u001b[1;32m     64\u001b[0m \u001b[0;34m\u001b[0m\u001b[0m\n\u001b[1;32m     65\u001b[0m     \u001b[0;32mdef\u001b[0m \u001b[0m__setstate__\u001b[0m\u001b[0;34m(\u001b[0m\u001b[0mself\u001b[0m\u001b[0;34m,\u001b[0m \u001b[0mstate\u001b[0m\u001b[0;34m)\u001b[0m\u001b[0;34m:\u001b[0m\u001b[0;34m\u001b[0m\u001b[0m\n", 
                        "\u001b[0;31mAttributeError\u001b[0m: columns"
                    ], 
                    "output_type": "error"
                }
            ], 
            "source": "# pd.options.display.notebook_repr_html = True\n# df = pd.DataFrame(d.data, columns=d.feature_names)\n# df['y'] = d.target\n# df.head()\n\n#df.colummns selects first 4 columns of data. ix selects 1st, 2nd, 3rd and 7th rows of the table \npd.set_option('precision',2)\ndf[df.columns[:4]].describe().ix[[1,2,3,7]]"
        }, 
        {
            "execution_count": null, 
            "cell_type": "code", 
            "metadata": {}, 
            "outputs": [], 
            "source": ""
        }, 
        {
            "source": "<b>Merge Files</b> ", 
            "cell_type": "markdown", 
            "metadata": {}
        }, 
        {
            "execution_count": 26, 
            "cell_type": "code", 
            "metadata": {}, 
            "outputs": [
                {
                    "output_type": "display_data", 
                    "data": {
                        "text/html": "<table border=\"1\" class=\"dataframe\">\n  <thead>\n    <tr style=\"text-align: right;\">\n      <th>X1</th>\n      <th>X2</th>\n    </tr>\n  </thead>\n  <tbody>\n    <tr>\n      <td>a</td>\n      <td>1</td>\n    </tr>\n    <tr>\n      <td>b</td>\n      <td>2</td>\n    </tr>\n    <tr>\n      <td>c</td>\n      <td>3</td>\n    </tr>\n  </tbody>\n</table>", 
                        "text/plain": "<IPython.core.display.HTML object>"
                    }, 
                    "metadata": {}
                }
            ], 
            "source": "data1 = pd.DataFrame({'X1':['a','b','c'],'X2':['1','2','3']}) \ndata2 = pd.DataFrame({'X1':['a','b','d'], 'X3':['2','4','8']})\n\nfrom IPython.display import display, HTML\n#display_side_by_side((display(HTML(data1.to_html(index=False)))), (display(HTML(data2.to_html(index=False)))))\n\ndisplay(HTML(data1.to_html(index=False)))"
        }, 
        {
            "execution_count": 47, 
            "cell_type": "code", 
            "metadata": {}, 
            "outputs": [
                {
                    "output_type": "display_data", 
                    "data": {
                        "text/html": "<table style=\"display:inline\" border=\"1\" class=\"dataframe\">\n  <thead>\n    <tr style=\"text-align: right;\">\n      <th></th>\n      <th>X1</th>\n      <th>X2</th>\n    </tr>\n  </thead>\n  <tbody>\n    <tr>\n      <th>0</th>\n      <td>a</td>\n      <td>1</td>\n    </tr>\n    <tr>\n      <th>1</th>\n      <td>b</td>\n      <td>2</td>\n    </tr>\n    <tr>\n      <th>2</th>\n      <td>c</td>\n      <td>3</td>\n    </tr>\n  </tbody>\n</table style=\"display:inline\"><table style=\"display:inline\" border=\"1\" class=\"dataframe\">\n  <thead>\n    <tr style=\"text-align: right;\">\n      <th></th>\n      <th>X1</th>\n      <th>X3</th>\n    </tr>\n  </thead>\n  <tbody>\n    <tr>\n      <th>0</th>\n      <td>a</td>\n      <td>2</td>\n    </tr>\n    <tr>\n      <th>1</th>\n      <td>b</td>\n      <td>4</td>\n    </tr>\n    <tr>\n      <th>2</th>\n      <td>d</td>\n      <td>8</td>\n    </tr>\n  </tbody>\n</table style=\"display:inline\"><table style=\"display:inline\" border=\"1\" class=\"dataframe\">\n  <thead>\n    <tr style=\"text-align: right;\">\n      <th></th>\n      <th>X1</th>\n      <th>X2</th>\n      <th>X3</th>\n    </tr>\n  </thead>\n  <tbody>\n    <tr>\n      <th>0</th>\n      <td>a</td>\n      <td>1</td>\n      <td>2</td>\n    </tr>\n    <tr>\n      <th>1</th>\n      <td>b</td>\n      <td>2</td>\n      <td>4</td>\n    </tr>\n    <tr>\n      <th>2</th>\n      <td>c</td>\n      <td>3</td>\n      <td>NaN</td>\n    </tr>\n  </tbody>\n</table style=\"display:inline\">"
                    }, 
                    "metadata": {}
                }
            ], 
            "source": "#Left Join: only include keys from data1\ndf_LeftJoin = pd.merge(data1, data2, how='left', on='X1')\ndisplay_side_by_side(data1, data2, df_LeftJoin)"
        }, 
        {
            "execution_count": 45, 
            "cell_type": "code", 
            "metadata": {}, 
            "outputs": [
                {
                    "output_type": "display_data", 
                    "data": {
                        "text/html": "<table style=\"display:inline\" border=\"1\" class=\"dataframe\">\n  <thead>\n    <tr style=\"text-align: right;\">\n      <th></th>\n      <th>X1</th>\n      <th>X2</th>\n    </tr>\n  </thead>\n  <tbody>\n    <tr>\n      <th>0</th>\n      <td>a</td>\n      <td>1</td>\n    </tr>\n    <tr>\n      <th>1</th>\n      <td>b</td>\n      <td>2</td>\n    </tr>\n    <tr>\n      <th>2</th>\n      <td>c</td>\n      <td>3</td>\n    </tr>\n  </tbody>\n</table style=\"display:inline\"><table style=\"display:inline\" border=\"1\" class=\"dataframe\">\n  <thead>\n    <tr style=\"text-align: right;\">\n      <th></th>\n      <th>X1</th>\n      <th>X3</th>\n    </tr>\n  </thead>\n  <tbody>\n    <tr>\n      <th>0</th>\n      <td>a</td>\n      <td>2</td>\n    </tr>\n    <tr>\n      <th>1</th>\n      <td>b</td>\n      <td>4</td>\n    </tr>\n    <tr>\n      <th>2</th>\n      <td>d</td>\n      <td>8</td>\n    </tr>\n  </tbody>\n</table style=\"display:inline\"><table style=\"display:inline\" border=\"1\" class=\"dataframe\">\n  <thead>\n    <tr style=\"text-align: right;\">\n      <th></th>\n      <th>X1</th>\n      <th>X2</th>\n      <th>X3</th>\n    </tr>\n  </thead>\n  <tbody>\n    <tr>\n      <th>0</th>\n      <td>a</td>\n      <td>1</td>\n      <td>2</td>\n    </tr>\n    <tr>\n      <th>1</th>\n      <td>b</td>\n      <td>2</td>\n      <td>4</td>\n    </tr>\n    <tr>\n      <th>2</th>\n      <td>d</td>\n      <td>NaN</td>\n      <td>8</td>\n    </tr>\n  </tbody>\n</table style=\"display:inline\">"
                    }, 
                    "metadata": {}
                }
            ], 
            "source": "#Right Join: only include keys from data2\ndf_RightJoin = pd.merge(data1, data2, how='right', on='X1')\ndisplay_side_by_side(data1, data2, df_RightJoin)"
        }, 
        {
            "execution_count": 46, 
            "cell_type": "code", 
            "metadata": {}, 
            "outputs": [
                {
                    "output_type": "display_data", 
                    "data": {
                        "text/html": "<table style=\"display:inline\" border=\"1\" class=\"dataframe\">\n  <thead>\n    <tr style=\"text-align: right;\">\n      <th></th>\n      <th>X1</th>\n      <th>X2</th>\n    </tr>\n  </thead>\n  <tbody>\n    <tr>\n      <th>0</th>\n      <td>a</td>\n      <td>1</td>\n    </tr>\n    <tr>\n      <th>1</th>\n      <td>b</td>\n      <td>2</td>\n    </tr>\n    <tr>\n      <th>2</th>\n      <td>c</td>\n      <td>3</td>\n    </tr>\n  </tbody>\n</table style=\"display:inline\"><table style=\"display:inline\" border=\"1\" class=\"dataframe\">\n  <thead>\n    <tr style=\"text-align: right;\">\n      <th></th>\n      <th>X1</th>\n      <th>X3</th>\n    </tr>\n  </thead>\n  <tbody>\n    <tr>\n      <th>0</th>\n      <td>a</td>\n      <td>2</td>\n    </tr>\n    <tr>\n      <th>1</th>\n      <td>b</td>\n      <td>4</td>\n    </tr>\n    <tr>\n      <th>2</th>\n      <td>d</td>\n      <td>8</td>\n    </tr>\n  </tbody>\n</table style=\"display:inline\"><table style=\"display:inline\" border=\"1\" class=\"dataframe\">\n  <thead>\n    <tr style=\"text-align: right;\">\n      <th></th>\n      <th>X1</th>\n      <th>X2</th>\n      <th>X3</th>\n    </tr>\n  </thead>\n  <tbody>\n    <tr>\n      <th>0</th>\n      <td>a</td>\n      <td>1</td>\n      <td>2</td>\n    </tr>\n    <tr>\n      <th>1</th>\n      <td>b</td>\n      <td>2</td>\n      <td>4</td>\n    </tr>\n  </tbody>\n</table style=\"display:inline\">"
                    }, 
                    "metadata": {}
                }
            ], 
            "source": "#Inner Join: only key values present in both data1 and data2\ndf_InnerJoin = pd.merge(data1, data2, how='inner', on='X1')\ndisplay_side_by_side(data1, data2, df_InnerJoin)"
        }, 
        {
            "execution_count": 29, 
            "cell_type": "code", 
            "metadata": {}, 
            "outputs": [
                {
                    "output_type": "display_data", 
                    "data": {
                        "text/html": "<table style=\"display:inline\" border=\"1\" class=\"dataframe\">\n  <thead>\n    <tr style=\"text-align: right;\">\n      <th></th>\n      <th>X1</th>\n      <th>X2</th>\n    </tr>\n  </thead>\n  <tbody>\n    <tr>\n      <th>0</th>\n      <td>a</td>\n      <td>1</td>\n    </tr>\n    <tr>\n      <th>1</th>\n      <td>b</td>\n      <td>2</td>\n    </tr>\n    <tr>\n      <th>2</th>\n      <td>c</td>\n      <td>3</td>\n    </tr>\n  </tbody>\n</table style=\"display:inline\"><table style=\"display:inline\" border=\"1\" class=\"dataframe\">\n  <thead>\n    <tr style=\"text-align: right;\">\n      <th></th>\n      <th>X1</th>\n      <th>X3</th>\n    </tr>\n  </thead>\n  <tbody>\n    <tr>\n      <th>0</th>\n      <td>a</td>\n      <td>2</td>\n    </tr>\n    <tr>\n      <th>1</th>\n      <td>b</td>\n      <td>4</td>\n    </tr>\n    <tr>\n      <th>2</th>\n      <td>d</td>\n      <td>8</td>\n    </tr>\n  </tbody>\n</table style=\"display:inline\"><table style=\"display:inline\" border=\"1\" class=\"dataframe\">\n  <thead>\n    <tr style=\"text-align: right;\">\n      <th></th>\n      <th>X1</th>\n      <th>X2</th>\n      <th>X3</th>\n    </tr>\n  </thead>\n  <tbody>\n    <tr>\n      <th>0</th>\n      <td>a</td>\n      <td>1.0</td>\n      <td>2.0</td>\n    </tr>\n    <tr>\n      <th>1</th>\n      <td>b</td>\n      <td>2.0</td>\n      <td>4.0</td>\n    </tr>\n    <tr>\n      <th>2</th>\n      <td>c</td>\n      <td>3.0</td>\n      <td>NaN</td>\n    </tr>\n    <tr>\n      <th>3</th>\n      <td>d</td>\n      <td>NaN</td>\n      <td>8.0</td>\n    </tr>\n  </tbody>\n</table style=\"display:inline\">"
                    }, 
                    "metadata": {}
                }
            ], 
            "source": "#Outer Join: key values in either data1 or data2\ndf_OuterJoin = pd.merge(data1, data2, how='outer', on='X1')\ndisplay_side_by_side(data1, data2, df_OuterJoin)"
        }, 
        {
            "source": "Join", 
            "cell_type": "markdown", 
            "metadata": {}
        }, 
        {
            "execution_count": null, 
            "cell_type": "code", 
            "metadata": {
                "collapsed": true
            }, 
            "outputs": [], 
            "source": "#data1.join(data2, how='right')"
        }, 
        {
            "execution_count": null, 
            "cell_type": "code", 
            "metadata": {}, 
            "outputs": [], 
            "source": ""
        }, 
        {
            "source": "<b>Rename Variables No Space<b/>", 
            "cell_type": "markdown", 
            "metadata": {}
        }, 
        {
            "execution_count": null, 
            "cell_type": "code", 
            "metadata": {}, 
            "outputs": [], 
            "source": "#df.columns = [c.replace(' ', '_') for c in df.columns]"
        }, 
        {
            "execution_count": 7, 
            "cell_type": "code", 
            "metadata": {}, 
            "outputs": [
                {
                    "output_type": "stream", 
                    "name": "stdout", 
                    "text": "File Shape = (4, 2)\nFile Size (Row Xs Columns) = 8\nN = 4\nFile Data Types are:\nID          int64\nVAR0001    object\ndtype: object\n"
                }
            ], 
            "source": "# #print attributes of dataframe\n\nprint('File Shape = ' + str(mf.shape), \n      'File Size (Row Xs Columns) = ' + str(mf.size), \n      'N = '+ str(len(mf.index)), \n      'File Data Types are:', mf.dtypes\n       , sep='\\n')"
        }, 
        {
            "execution_count": null, 
            "cell_type": "code", 
            "metadata": {}, 
            "outputs": [], 
            "source": ""
        }, 
        {
            "source": "<b>Data Types<b/>", 
            "cell_type": "markdown", 
            "metadata": {}
        }, 
        {
            "execution_count": 25, 
            "cell_type": "code", 
            "metadata": {}, 
            "outputs": [
                {
                    "output_type": "stream", 
                    "name": "stdout", 
                    "text": "<class 'numpy.int64'> <class 'str'>\n"
                }
            ], 
            "source": "# type for ID and VAR0001\nx = type(mf.ID[0])\ny = type(mf.VAR0001[0])\nprint(x,y)\n"
        }, 
        {
            "source": "<b>Directory Listing and Interrogating<b/>", 
            "cell_type": "markdown", 
            "metadata": {}
        }, 
        {
            "execution_count": 4, 
            "cell_type": "code", 
            "metadata": {}, 
            "outputs": [
                {
                    "output_type": "stream", 
                    "name": "stdout", 
                    "text": "['MY NOTES.ipynb', '.ipynb_checkpoints'] /Users/jparryus.ibm.com/Box Sync/Notebooks\n"
                }
            ], 
            "source": "#list what objects are in a specific directory\n# import os\n# entries = os.listdir('/resources/data')\n# print(entries)\n\n#print the current working directory and the files in the cwd\n\nimport os \nfiles = os.listdir(os.curdir) \n#use percent to print working directory inline\nfiles1 = %pwd\n\nprint(files, files1)\n"
        }, 
        {
            "execution_count": null, 
            "cell_type": "code", 
            "metadata": {}, 
            "outputs": [], 
            "source": "import pandas as pd"
        }, 
        {
            "execution_count": 19, 
            "cell_type": "code", 
            "metadata": {}, 
            "outputs": [], 
            "source": "#creating output format\nfrom IPython.display import display_html\ndef display_side_by_side(*args):\n    html_str=''\n    for df in args:\n        html_str+=df.to_html()\n    display_html(html_str.replace('table','table style=\"display:inline\"'),raw=True)"
        }, 
        {
            "execution_count": 8, 
            "cell_type": "code", 
            "metadata": {}, 
            "outputs": [
                {
                    "output_type": "display_data", 
                    "data": {
                        "text/html": "<table style=\"display:inline\" border=\"1\" class=\"dataframe\">\n  <thead>\n    <tr style=\"text-align: right;\">\n      <th></th>\n      <th>X1</th>\n      <th>X2</th>\n    </tr>\n  </thead>\n  <tbody>\n    <tr>\n      <th>0</th>\n      <td>a</td>\n      <td>1</td>\n    </tr>\n    <tr>\n      <th>1</th>\n      <td>b</td>\n      <td>2</td>\n    </tr>\n    <tr>\n      <th>2</th>\n      <td>c</td>\n      <td>3</td>\n    </tr>\n  </tbody>\n</table style=\"display:inline\"><table style=\"display:inline\" border=\"1\" class=\"dataframe\">\n  <thead>\n    <tr style=\"text-align: right;\">\n      <th></th>\n      <th>X1</th>\n      <th>X3</th>\n    </tr>\n  </thead>\n  <tbody>\n    <tr>\n      <th>0</th>\n      <td>a</td>\n      <td>2</td>\n    </tr>\n    <tr>\n      <th>1</th>\n      <td>b</td>\n      <td>4</td>\n    </tr>\n    <tr>\n      <th>2</th>\n      <td>d</td>\n      <td>8</td>\n    </tr>\n  </tbody>\n</table style=\"display:inline\"><table style=\"display:inline\" border=\"1\" class=\"dataframe\">\n  <thead>\n    <tr style=\"text-align: right;\">\n      <th></th>\n      <th>X1</th>\n      <th>X3</th>\n    </tr>\n  </thead>\n  <tbody>\n    <tr>\n      <th>0</th>\n      <td>a</td>\n      <td>2</td>\n    </tr>\n    <tr>\n      <th>1</th>\n      <td>b</td>\n      <td>4</td>\n    </tr>\n    <tr>\n      <th>2</th>\n      <td>d</td>\n      <td>8</td>\n    </tr>\n  </tbody>\n</table style=\"display:inline\">"
                    }, 
                    "metadata": {}
                }
            ], 
            "source": "data1 = pd.read_csv('/Users/jparryus.ibm.com/Box Sync/Learning/PYRK8/Pandas Merge/data1.csv')\ndata2 = pd.read_csv('/Users/jparryus.ibm.com/Box Sync/Learning/PYRK8/Pandas Merge/data12.csv')\ndata3 = pd.read_csv('/Users/jparryus.ibm.com/Box Sync/Learning/PYRK8/Pandas Merge/data12.csv')\n\ndisplay_side_by_side(data1,data2, data3)"
        }, 
        {
            "execution_count": null, 
            "cell_type": "code", 
            "metadata": {}, 
            "outputs": [], 
            "source": "data1."
        }, 
        {
            "execution_count": 10, 
            "cell_type": "code", 
            "metadata": {}, 
            "outputs": [
                {
                    "execution_count": 10, 
                    "metadata": {}, 
                    "data": {
                        "text/plain": "'<table border=\"1\" class=\"dataframe\">\\n  <thead>\\n    <tr style=\"text-align: right;\">\\n      <th></th>\\n      <th>X1</th>\\n      <th>X2</th>\\n    </tr>\\n  </thead>\\n  <tbody>\\n    <tr>\\n      <th>0</th>\\n      <td>a</td>\\n      <td>1</td>\\n    </tr>\\n    <tr>\\n      <th>1</th>\\n      <td>b</td>\\n      <td>2</td>\\n    </tr>\\n    <tr>\\n      <th>2</th>\\n      <td>c</td>\\n      <td>3</td>\\n    </tr>\\n  </tbody>\\n</table>'"
                    }, 
                    "output_type": "execute_result"
                }
            ], 
            "source": "datax = data1.to_html()\ndatax"
        }, 
        {
            "source": "'<table border=\"1\" class=\"dataframe\">\\n  <thead>\\n    <tr style=\"text-align: right;\">\\n      <th></th>\\n      <th>X1</th>\\n      <th>X2</th>\\n    </tr>\\n  </thead>\\n  <tbody>\\n    <tr>\\n      <th>0</th>\\n      <td>a</td>\\n      <td>1</td>\\n    </tr>\\n    <tr>\\n      <th>1</th>\\n      <td>b</td>\\n      <td>2</td>\\n    </tr>\\n    <tr>\\n      <th>2</th>\\n      <td>c</td>\\n      <td>3</td>\\n    </tr>\\n  </tbody>\\n</table>'", 
            "cell_type": "markdown", 
            "metadata": {}
        }, 
        {
            "execution_count": null, 
            "cell_type": "code", 
            "metadata": {}, 
            "outputs": [], 
            "source": ""
        }, 
        {
            "execution_count": 38, 
            "cell_type": "code", 
            "metadata": {}, 
            "outputs": [
                {
                    "execution_count": 38, 
                    "metadata": {}, 
                    "data": {
                        "text/plain": "'a'"
                    }, 
                    "output_type": "execute_result"
                }
            ], 
            "source": "x = mf.VAR0001[0].lower()\nx\n"
        }, 
        {
            "source": "<b>Strings<b/>\n    ", 
            "cell_type": "markdown", 
            "metadata": {}
        }, 
        {
            "source": "<b> Later<b/>", 
            "cell_type": "markdown", 
            "metadata": {}
        }, 
        {
            "execution_count": null, 
            "cell_type": "code", 
            "metadata": {}, 
            "outputs": [], 
            "source": ""
        }, 
        {
            "execution_count": null, 
            "cell_type": "code", 
            "metadata": {}, 
            "outputs": [], 
            "source": ""
        }, 
        {
            "source": "<a id=\"loops\"></a>\n#### Loops", 
            "cell_type": "markdown", 
            "metadata": {}
        }, 
        {
            "execution_count": 67, 
            "cell_type": "code", 
            "metadata": {}, 
            "outputs": [
                {
                    "output_type": "stream", 
                    "name": "stdout", 
                    "text": "1\n2\n3\n4\n5\n"
                }
            ], 
            "source": "#Ex1 print each member of the tuple\n\n\n#Ex1 print each member of the tuple\n#the +1 and -1 aren't necessary but show flexibility\n\n\nt = (\"1\",2,3,4,'5')\ni = len(t)-1\nfor anyword in range(i+1):\n    print(t[anyword])\n\n# tuple1 = (\"disco\",10,1.2 )\n# i = len(tuple1)\n# i=(i+30)\n# for i in range(i-30):\n#     print(tuple1[i])\n\n    \n    #Ex1 print each member of the tuple\n\n# tuple1 = (\"disco\",10,1.2 )\n# i = len(tuple1)\n# i=(i-1)\n# for i in range(i+1):\n#     print(tuple1[i])\n"
        }, 
        {
            "execution_count": 69, 
            "cell_type": "code", 
            "metadata": {}, 
            "outputs": [
                {
                    "output_type": "stream", 
                    "name": "stdout", 
                    "text": "1\n"
                }
            ], 
            "source": "print(t[1-1])\n"
        }, 
        {
            "execution_count": 77, 
            "cell_type": "code", 
            "metadata": {}, 
            "outputs": [
                {
                    "output_type": "stream", 
                    "name": "stdout", 
                    "text": "(1, 2)\n(4, 5)\n(8, 9)\n(13,)\n"
                }
            ], 
            "source": "#Ex2 print each nested member of the tuple\nNestedT = ((1, 2), (3,4,5),(6,7,8,9),(10,11,12,13,14))\nn = NestedT\na = len(n)\n\n\n\nfor i in range(a):\n    b = n[i]\n    c = b[i:a]\n    print(c)\n  \n\n# for i in range(a):\n#     b = n[i]\n#     c = b[i:a+(i+)]\n#     print(c)\n    \n    "
        }, 
        {
            "execution_count": 74, 
            "cell_type": "code", 
            "metadata": {}, 
            "outputs": [
                {
                    "output_type": "stream", 
                    "name": "stdout", 
                    "text": "Element 1, 1 of Tuple:  1\nElement 1, 2 of Tuple:  2\nElement 2, 1 of Tuple:  3\nElement 2, 2 of Tuple:  4\nElement 2, 3 of Tuple:  5\n"
                }
            ], 
            "source": "#loop this (above)\n\n\nprint(\"Element 1, 1 of Tuple: \",   n[0][0])\nprint(\"Element 1, 2 of Tuple: \",   n[0][1])\nprint(\"Element 2, 1 of Tuple: \",   n[1][0])\nprint(\"Element 2, 2 of Tuple: \",   n[1][1])\nprint(\"Element 2, 3 of Tuple: \",   n[1][2])\n"
        }, 
        {
            "execution_count": null, 
            "cell_type": "code", 
            "metadata": {}, 
            "outputs": [], 
            "source": "#create a separate csv for each row: LATER\n\n#for ID in myfile:\n#    TheCurrentMonth = pd.read_csv('MonthlyDataSplit/Day/Day%s.csv' % EachMonth)\n#    MeanDailyTemperaturesForCurrentMonth = TheCurrentMonth.groupby('Day')['AirTemperature'].mean().reset_index(name='MeanDailyAirTemperature')\n#     with open('my_csv.csv', 'a') as f:\n#         df.to_csv(f, header=False)\n\n\n\n\n"
        }, 
        {
            "source": "<b>Crosstabulation and Descriptives<b/>", 
            "cell_type": "markdown", 
            "metadata": {}
        }, 
        {
            "execution_count": null, 
            "cell_type": "code", 
            "metadata": {}, 
            "outputs": [], 
            "source": "#pd.crosstab(df.City, df.Complaint_Type, rownames = ['A'], colnames= 'B')"
        }, 
        {
            "execution_count": 1, 
            "cell_type": "code", 
            "metadata": {}, 
            "outputs": [
                {
                    "output_type": "stream", 
                    "name": "stdout", 
                    "text": "['MY NOTES.ipynb', '.ipynb_checkpoints'] /Users/jparryus.ibm.com/Box Sync/Notebooks\n"
                }
            ], 
            "source": ""
        }, 
        {
            "execution_count": 2, 
            "cell_type": "code", 
            "metadata": {}, 
            "outputs": [
                {
                    "execution_count": 2, 
                    "metadata": {}, 
                    "data": {
                        "text/html": "<div>\n<style scoped>\n    .dataframe tbody tr th:only-of-type {\n        vertical-align: middle;\n    }\n\n    .dataframe tbody tr th {\n        vertical-align: top;\n    }\n\n    .dataframe thead th {\n        text-align: right;\n    }\n</style>\n<table border=\"1\" class=\"dataframe\">\n  <thead>\n    <tr style=\"text-align: right;\">\n      <th></th>\n      <th>X1</th>\n      <th>X2</th>\n    </tr>\n  </thead>\n  <tbody>\n    <tr>\n      <th>0</th>\n      <td>a</td>\n      <td>1</td>\n    </tr>\n    <tr>\n      <th>1</th>\n      <td>b</td>\n      <td>2</td>\n    </tr>\n    <tr>\n      <th>2</th>\n      <td>c</td>\n      <td>3</td>\n    </tr>\n  </tbody>\n</table>\n</div>", 
                        "text/plain": "  X1  X2\n0  a   1\n1  b   2\n2  c   3"
                    }, 
                    "output_type": "execute_result"
                }
            ], 
            "source": "# data1 = pd.read_csv('/Users/jparryus.ibm.com/Box Sync/Learning/PYRK8/Pandas Merge/data1.csv')\n# data2 = pd.read_csv('/Users/jparryus.ibm.com/Box Sync/Learning/PYRK8/Pandas Merge/data12.csv')\n\ndata1.head() "
        }, 
        {
            "execution_count": null, 
            "cell_type": "code", 
            "metadata": {}, 
            "outputs": [], 
            "source": ""
        }, 
        {
            "execution_count": null, 
            "cell_type": "code", 
            "metadata": {}, 
            "outputs": [], 
            "source": ""
        }, 
        {
            "source": "<b>Output Formatting</b>", 
            "cell_type": "markdown", 
            "metadata": {}
        }, 
        {
            "execution_count": null, 
            "cell_type": "code", 
            "metadata": {}, 
            "outputs": [], 
            "source": "#creating output format that will place output tables side by side\nfrom IPython.display import display_html\ndef display_side_by_side(*args):\n    html_str=''\n    for df in args:\n        html_str+=df.to_html()\n    display_html(html_str.replace('table','table style=\"display:inline\"'),raw=True)"
        }, 
        {
            "source": "#### Get rid of ugly index in header tables", 
            "cell_type": "markdown", 
            "metadata": {}
        }, 
        {
            "execution_count": 11, 
            "cell_type": "code", 
            "metadata": {}, 
            "outputs": [
                {
                    "output_type": "display_data", 
                    "data": {
                        "text/html": "<table border=\"1\" class=\"dataframe\">\n  <thead>\n    <tr style=\"text-align: right;\">\n      <th>X1</th>\n      <th>X2</th>\n    </tr>\n  </thead>\n  <tbody>\n    <tr>\n      <td>a</td>\n      <td>1</td>\n    </tr>\n    <tr>\n      <td>b</td>\n      <td>2</td>\n    </tr>\n    <tr>\n      <td>c</td>\n      <td>3</td>\n    </tr>\n  </tbody>\n</table>", 
                        "text/plain": "<IPython.core.display.HTML object>"
                    }, 
                    "metadata": {}
                }
            ], 
            "source": "#make data1. Use \ndata1 = pd.DataFrame({'X1':['a','b','c'],'X2':['1','2','3']}) \n#from: https://stackoverflow.com/questions/21256013/pandas-dataframe-hide-index-functionality, searched: suppress index from header\n\nfrom IPython.display import display, HTML\n\n#display(HTML(DATAFRAME.to_html(index=False)))\ndisplay(HTML(data1.to_html(index=False)))"
        }, 
        {
            "source": "<b>First Attempts<b/>", 
            "cell_type": "markdown", 
            "metadata": {}
        }, 
        {
            "execution_count": null, 
            "cell_type": "code", 
            "metadata": {}, 
            "outputs": [], 
            "source": "################################Other Attempts######################################    \n# #create data out of thin air! Probably not the best way to do it, but it works :)\n# with open('/resources/data/xample1.txt', 'w') as writefile:\n#     writefile.write('ID, VAR0001 \\n')\n#     writefile.write('1,A \\n')\n#     writefile.write('2,B \\n')\n#     writefile.write('3,C \\n')\n    \n#add column names using Pandas\n#if there were no header, this is how you add a header/var names in pandas\n#myfile = pd.read_csv('/resources/data/xample1.txt', \n#                  sep='\\,', \n#                  names=['ID', 'VAR0001'])\n#myfile = pd.read_csv('/resources/data/xample1.txt', sep=',')\n# Check whether write to file worked\n#Create a file called xample1 and populate with 3 rows and three columns each corresponding to 1,A /n 2,B .... etc. \n\n#create file\n#f= open(\"/resources/data/xample1.txt\",\"w+\")\n\n\n"
        }, 
        {
            "source": "<img alt=\"IBM\" align=\"right\" src=\"https://raw.githubusercontent.com/dcinnovator/DS/master/IBM%20LOGO%20small.png\" > <br><br><br><br>", 
            "cell_type": "markdown", 
            "metadata": {}
        }, 
        {
            "execution_count": null, 
            "cell_type": "code", 
            "metadata": {}, 
            "outputs": [], 
            "source": ""
        }
    ], 
    "metadata": {
        "kernelspec": {
            "display_name": "Python 3.5", 
            "name": "python3", 
            "language": "python"
        }, 
        "language_info": {
            "mimetype": "text/x-python", 
            "nbconvert_exporter": "python", 
            "version": "3.5.5", 
            "name": "python", 
            "file_extension": ".py", 
            "pygments_lexer": "ipython3", 
            "codemirror_mode": {
                "version": 3, 
                "name": "ipython"
            }
        }
    }, 
    "nbformat": 4
}