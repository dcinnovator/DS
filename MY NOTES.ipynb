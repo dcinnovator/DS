{
    "nbformat_minor": 2, 
    "cells": [
        {
            "source": "<img alt=\"IBM\" align=\"right\" src=\"https://raw.githubusercontent.com/dcinnovator/DS/master/IBM%20JUST%20LOGO%20SMALL.png\" > <br><br><br><br>", 
            "cell_type": "markdown", 
            "metadata": {}
        }, 
        {
            "execution_count": null, 
            "cell_type": "code", 
            "metadata": {}, 
            "outputs": [], 
            "source": ""
        }, 
        {
            "source": "## Table of Contents for Useful Python Commands for Data Preparation and Analysis\n\n1. [Environment Commands](#env)\n1. [Create/Read/Write/Populate/Describe files](#getfile)\n1. [Handle Missing Values](#missing)\n1. [Recode Variables](#recode)\n1. [Autorecode Variables](#arecode)\n1. [Rename Variables](#rename)\n1. [](#)\n1. [](#)\n1. [](#)\n1. [](#)\n1. [](#)\n1. [](#)\n\n\n<b><b/>\n\n\n<b>My Notes for Python commands useful for data manipulation and analysis. Includes Pandas and sklearn.<b/>", 
            "cell_type": "markdown", 
            "metadata": {}
        }, 
        {
            "execution_count": 2, 
            "cell_type": "code", 
            "metadata": {}, 
            "outputs": [], 
            "source": "#Import Libraries: there will be lots of redundant imports so the code can be run in separte chunks\n\n#although there are many ways to manipulate files, pandas is widely used and should be familiar. \n#This example uses pandas for data manipulation.\n\nimport pandas as pd"
        }, 
        {
            "source": "<a id=\"env\"></a>\n#### Environment Commands\n\n\n\n", 
            "cell_type": "markdown", 
            "metadata": {}
        }, 
        {
            "execution_count": 3, 
            "cell_type": "code", 
            "metadata": {}, 
            "outputs": [
                {
                    "execution_count": 3, 
                    "metadata": {}, 
                    "data": {
                        "text/plain": "'/home/dsxuser/work'"
                    }, 
                    "output_type": "execute_result"
                }
            ], 
            "source": "#print working directory- make sure to use % before pwd\nimport os as os\n%pwd"
        }, 
        {
            "source": " <font color=\"blue\">List Directory, Contents</font> ", 
            "cell_type": "markdown", 
            "metadata": {}
        }, 
        {
            "execution_count": 4, 
            "cell_type": "code", 
            "metadata": {}, 
            "outputs": [
                {
                    "output_type": "stream", 
                    "name": "stdout", 
                    "text": "Files: [] Directory: /home/dsxuser/work\n"
                }
            ], 
            "source": "import os \nListFiles = os.listdir(os.curdir) \n#use percent to print working directory inline within the print command (magic function)\nListDir = %pwd\n\nprint('Files:', ListFiles, 'Directory:', ListDir)"
        }, 
        {
            "source": " <font color=\"blue\">Install Git</font> ", 
            "cell_type": "markdown", 
            "metadata": {}
        }, 
        {
            "execution_count": 5, 
            "cell_type": "code", 
            "metadata": {
                "scrolled": true
            }, 
            "outputs": [], 
            "source": "#conda install git\n#not sure how to use yet "
        }, 
        {
            "execution_count": null, 
            "cell_type": "code", 
            "metadata": {}, 
            "outputs": [], 
            "source": ""
        }, 
        {
            "execution_count": null, 
            "cell_type": "code", 
            "metadata": {}, 
            "outputs": [], 
            "source": ""
        }, 
        {
            "source": "<a id=\"getfile\"></a>\n#### Create/Read/Write/Populate/Describe files\n<b><b/>", 
            "cell_type": "markdown", 
            "metadata": {}
        }, 
        {
            "execution_count": 6, 
            "cell_type": "code", 
            "metadata": {}, 
            "outputs": [], 
            "source": "#although there are many ways to manipulate files, pandas is widely used and should be familiar. \n#This example uses pandas for data manipulation.\n\nimport pandas as pd"
        }, 
        {
            "source": "#### Create Pandas df from Scratch\n", 
            "cell_type": "markdown", 
            "metadata": {}
        }, 
        {
            "execution_count": 7, 
            "cell_type": "code", 
            "metadata": {}, 
            "outputs": [
                {
                    "execution_count": 7, 
                    "metadata": {}, 
                    "data": {
                        "text/html": "<div>\n<style scoped>\n    .dataframe tbody tr th:only-of-type {\n        vertical-align: middle;\n    }\n\n    .dataframe tbody tr th {\n        vertical-align: top;\n    }\n\n    .dataframe thead th {\n        text-align: right;\n    }\n</style>\n<table border=\"1\" class=\"dataframe\">\n  <thead>\n    <tr style=\"text-align: right;\">\n      <th></th>\n      <th>ID</th>\n      <th>VAR0001</th>\n    </tr>\n  </thead>\n  <tbody>\n    <tr>\n      <th>0</th>\n      <td>1</td>\n      <td>A</td>\n    </tr>\n    <tr>\n      <th>1</th>\n      <td>2</td>\n      <td>B</td>\n    </tr>\n    <tr>\n      <th>2</th>\n      <td>3</td>\n      <td>C</td>\n    </tr>\n  </tbody>\n</table>\n</div>", 
                        "text/plain": "   ID VAR0001\n0   1       A\n1   2       B\n2   3       C"
                    }, 
                    "output_type": "execute_result"
                }
            ], 
            "source": "# Creating the first Dataframe using dictionary - much simpler than python below\nmyfile = pd.DataFrame({'ID':[1,2,3],'VAR0001':['A','B','C']}) \nmyfile.head()"
        }, 
        {
            "source": "#### Add line to data frame", 
            "cell_type": "markdown", 
            "metadata": {}
        }, 
        {
            "execution_count": 8, 
            "cell_type": "code", 
            "metadata": {}, 
            "outputs": [
                {
                    "execution_count": 8, 
                    "metadata": {}, 
                    "data": {
                        "text/html": "<div>\n<style scoped>\n    .dataframe tbody tr th:only-of-type {\n        vertical-align: middle;\n    }\n\n    .dataframe tbody tr th {\n        vertical-align: top;\n    }\n\n    .dataframe thead th {\n        text-align: right;\n    }\n</style>\n<table border=\"1\" class=\"dataframe\">\n  <thead>\n    <tr style=\"text-align: right;\">\n      <th></th>\n      <th>ID</th>\n      <th>VAR0001</th>\n      <th>VAR0002</th>\n    </tr>\n  </thead>\n  <tbody>\n    <tr>\n      <th>0</th>\n      <td>1</td>\n      <td>A</td>\n      <td>NaN</td>\n    </tr>\n    <tr>\n      <th>1</th>\n      <td>2</td>\n      <td>B</td>\n      <td>NaN</td>\n    </tr>\n    <tr>\n      <th>2</th>\n      <td>3</td>\n      <td>C</td>\n      <td>NaN</td>\n    </tr>\n    <tr>\n      <th>3</th>\n      <td>4</td>\n      <td>D</td>\n      <td>E</td>\n    </tr>\n  </tbody>\n</table>\n</div>", 
                        "text/plain": "   ID VAR0001 VAR0002\n0   1       A     NaN\n1   2       B     NaN\n2   3       C     NaN\n3   4       D       E"
                    }, 
                    "output_type": "execute_result"
                }
            ], 
            "source": "#add a 4th row with 4,D, E. Notice it creates new variable for entire df. Use append. ignore_index prevents index from starting over with new data appended.\ndf2 = pd.DataFrame({'ID':[4],'VAR0001':['D'], 'VAR0002' :['E']}) \n\nmyfile = myfile.append(df2, ignore_index = True)\n\n#shorten myfile to mf\nmf= myfile\nmf.head()"
        }, 
        {
            "source": "<a id=\"missing\"></a>\n#### Handle Missing Values\n<b><b/>", 
            "cell_type": "markdown", 
            "metadata": {}
        }, 
        {
            "execution_count": 9, 
            "cell_type": "code", 
            "metadata": {}, 
            "outputs": [
                {
                    "execution_count": 9, 
                    "metadata": {}, 
                    "data": {
                        "text/html": "<div>\n<style scoped>\n    .dataframe tbody tr th:only-of-type {\n        vertical-align: middle;\n    }\n\n    .dataframe tbody tr th {\n        vertical-align: top;\n    }\n\n    .dataframe thead th {\n        text-align: right;\n    }\n</style>\n<table border=\"1\" class=\"dataframe\">\n  <thead>\n    <tr style=\"text-align: right;\">\n      <th></th>\n      <th>ID</th>\n      <th>VAR0001</th>\n      <th>VAR0002</th>\n    </tr>\n  </thead>\n  <tbody>\n    <tr>\n      <th>0</th>\n      <td>1</td>\n      <td>A</td>\n      <td>0</td>\n    </tr>\n    <tr>\n      <th>1</th>\n      <td>2</td>\n      <td>B</td>\n      <td>0</td>\n    </tr>\n    <tr>\n      <th>2</th>\n      <td>3</td>\n      <td>C</td>\n      <td>0</td>\n    </tr>\n    <tr>\n      <th>3</th>\n      <td>4</td>\n      <td>D</td>\n      <td>E</td>\n    </tr>\n  </tbody>\n</table>\n</div>", 
                        "text/plain": "   ID VAR0001 VAR0002\n0   1       A       0\n1   2       B       0\n2   3       C       0\n3   4       D       E"
                    }, 
                    "output_type": "execute_result"
                }
            ], 
            "source": "#### Substitute NaN with 0\ndf3 = mf.fillna(0)\ndf3"
        }, 
        {
            "source": "<a id=\"rename\"></a>\n#### Rename Variables", 
            "cell_type": "markdown", 
            "metadata": {}
        }, 
        {
            "execution_count": 10, 
            "cell_type": "code", 
            "metadata": {}, 
            "outputs": [
                {
                    "ename": "NameError", 
                    "evalue": "name 'HTML' is not defined", 
                    "traceback": [
                        "\u001b[0;31m---------------------------------------------------------------------------\u001b[0m", 
                        "\u001b[0;31mNameError\u001b[0m                                 Traceback (most recent call last)", 
                        "\u001b[0;32m<ipython-input-10-a079f48032f8>\u001b[0m in \u001b[0;36m<module>\u001b[0;34m()\u001b[0m\n\u001b[1;32m      1\u001b[0m \u001b[0mdf4\u001b[0m \u001b[0;34m=\u001b[0m \u001b[0mdf3\u001b[0m\u001b[0;34m.\u001b[0m\u001b[0mrename\u001b[0m\u001b[0;34m(\u001b[0m\u001b[0mindex\u001b[0m\u001b[0;34m=\u001b[0m\u001b[0mstr\u001b[0m\u001b[0;34m,\u001b[0m \u001b[0mcolumns\u001b[0m\u001b[0;34m=\u001b[0m\u001b[0;34m{\u001b[0m\u001b[0;34m\"VAR0001\"\u001b[0m\u001b[0;34m:\u001b[0m \u001b[0;34m\"Threat\"\u001b[0m\u001b[0;34m,\u001b[0m \u001b[0;34m\"VAR0002\"\u001b[0m\u001b[0;34m:\u001b[0m \u001b[0;34m\"Status\"\u001b[0m\u001b[0;34m}\u001b[0m\u001b[0;34m)\u001b[0m\u001b[0;34m\u001b[0m\u001b[0m\n\u001b[0;32m----> 2\u001b[0;31m \u001b[0mdisplay\u001b[0m\u001b[0;34m(\u001b[0m\u001b[0mHTML\u001b[0m\u001b[0;34m(\u001b[0m\u001b[0mdf4\u001b[0m\u001b[0;34m.\u001b[0m\u001b[0mto_html\u001b[0m\u001b[0;34m(\u001b[0m\u001b[0mindex\u001b[0m\u001b[0;34m=\u001b[0m\u001b[0;32mFalse\u001b[0m\u001b[0;34m)\u001b[0m\u001b[0;34m)\u001b[0m\u001b[0;34m)\u001b[0m\u001b[0;34m\u001b[0m\u001b[0m\n\u001b[0m", 
                        "\u001b[0;31mNameError\u001b[0m: name 'HTML' is not defined"
                    ], 
                    "output_type": "error"
                }
            ], 
            "source": "df4 = df3.rename(index=str, columns={\"VAR0001\": \"Threat\", \"VAR0002\": \"Status\"})\ndisplay(HTML(df4.to_html(index=False)))"
        }, 
        {
            "source": "<a id=\"recode\"></a>\n#### Recode Variables", 
            "cell_type": "markdown", 
            "metadata": {}
        }, 
        {
            "source": "<a id=\"arecode\"></a>\n#### Autoecode Variables", 
            "cell_type": "markdown", 
            "metadata": {}
        }, 
        {
            "execution_count": 12, 
            "cell_type": "code", 
            "metadata": {}, 
            "outputs": [
                {
                    "output_type": "stream", 
                    "name": "stderr", 
                    "text": "/opt/conda/envs/DSX-Python35/lib/python3.5/site-packages/ipykernel/__main__.py:5: FutureWarning: Categorical.from_array is deprecated, use Categorical instead\n/opt/conda/envs/DSX-Python35/lib/python3.5/site-packages/ipykernel/__main__.py:5: FutureWarning: 'labels' is deprecated. Use 'codes' instead\n"
                }, 
                {
                    "output_type": "display_data", 
                    "data": {
                        "text/html": "<table border=\"1\" class=\"dataframe\">\n  <thead>\n    <tr style=\"text-align: right;\">\n      <th>ID</th>\n      <th>Threat</th>\n      <th>Status</th>\n      <th>Threat_Numeric</th>\n    </tr>\n  </thead>\n  <tbody>\n    <tr>\n      <td>1</td>\n      <td>A</td>\n      <td>0</td>\n      <td>0</td>\n    </tr>\n    <tr>\n      <td>2</td>\n      <td>B</td>\n      <td>0</td>\n      <td>1</td>\n    </tr>\n    <tr>\n      <td>3</td>\n      <td>C</td>\n      <td>0</td>\n      <td>2</td>\n    </tr>\n    <tr>\n      <td>4</td>\n      <td>D</td>\n      <td>E</td>\n      <td>3</td>\n    </tr>\n  </tbody>\n</table>", 
                        "text/plain": "<IPython.core.display.HTML object>"
                    }, 
                    "metadata": {}
                }
            ], 
            "source": "#renamed columns from earlier\ndf_cat = df3.rename(index=str, columns={\"VAR0001\": \"Threat\", \"VAR0002\": \"Status\"})\n\n#Autorecode String to Numberic in ascending order categorical.from_arry().labels\ndf_cat['Threat_Numeric'] = pd.Categorical.from_array(df_cat.Threat).labels\n\n#trick to drop ugly index column\nfrom IPython.display import display, HTML\ndisplay(HTML(df_cat.to_html(index=False)))"
        }, 
        {
            "execution_count": 13, 
            "cell_type": "code", 
            "metadata": {}, 
            "outputs": [
                {
                    "execution_count": 13, 
                    "metadata": {}, 
                    "data": {
                        "text/html": "<div>\n<style scoped>\n    .dataframe tbody tr th:only-of-type {\n        vertical-align: middle;\n    }\n\n    .dataframe tbody tr th {\n        vertical-align: top;\n    }\n\n    .dataframe thead th {\n        text-align: right;\n    }\n</style>\n<table border=\"1\" class=\"dataframe\">\n  <thead>\n    <tr style=\"text-align: right;\">\n      <th></th>\n      <th>ID</th>\n      <th>Threat</th>\n      <th>Status</th>\n    </tr>\n  </thead>\n  <tbody>\n    <tr>\n      <th>0</th>\n      <td>1</td>\n      <td>1</td>\n      <td>0</td>\n    </tr>\n    <tr>\n      <th>1</th>\n      <td>2</td>\n      <td>2</td>\n      <td>0</td>\n    </tr>\n    <tr>\n      <th>2</th>\n      <td>3</td>\n      <td>3</td>\n      <td>0</td>\n    </tr>\n    <tr>\n      <th>3</th>\n      <td>4</td>\n      <td>4</td>\n      <td>E</td>\n    </tr>\n  </tbody>\n</table>\n</div>", 
                        "text/plain": "   ID  Threat Status\n0   1       1      0\n1   2       2      0\n2   3       3      0\n3   4       4      E"
                    }, 
                    "output_type": "execute_result"
                }
            ], 
            "source": "#to numeric manual- regex may come in handy later\ndf4['Threat'] = df4['Threat'].replace(regex='A', value=1)\ndf4['Threat'] = df4['Threat'].replace(regex='B', value=2)\ndf4['Threat'] = df4['Threat'].replace(regex='C', value=3)\ndf4['Threat'] = df4['Threat'].replace(regex='D', value=4)\ndf4['Threat'] = df4['Threat'].replace(regex='E', value=5)\ndf4\n\n\n#df5 = df4.Threat.replace(to_replace=dict(A=None, B=Low, C= Medium, D= High)inplace=True)\n                         \n#w.female.replace(to_replace=dict(female=1, male=0), inplace=True)\n\n"
        }, 
        {
            "execution_count": 14, 
            "cell_type": "code", 
            "metadata": {}, 
            "outputs": [
                {
                    "execution_count": 14, 
                    "metadata": {}, 
                    "data": {
                        "text/html": "<div>\n<style scoped>\n    .dataframe tbody tr th:only-of-type {\n        vertical-align: middle;\n    }\n\n    .dataframe tbody tr th {\n        vertical-align: top;\n    }\n\n    .dataframe thead th {\n        text-align: right;\n    }\n</style>\n<table border=\"1\" class=\"dataframe\">\n  <thead>\n    <tr style=\"text-align: right;\">\n      <th></th>\n      <th>ID</th>\n      <th>Threat</th>\n      <th>Status</th>\n      <th>Threat_Numeric</th>\n    </tr>\n  </thead>\n  <tbody>\n    <tr>\n      <th>0</th>\n      <td>1</td>\n      <td>A</td>\n      <td>0</td>\n      <td>0</td>\n    </tr>\n    <tr>\n      <th>1</th>\n      <td>2</td>\n      <td>B</td>\n      <td>0</td>\n      <td>1</td>\n    </tr>\n    <tr>\n      <th>2</th>\n      <td>3</td>\n      <td>C</td>\n      <td>0</td>\n      <td>2</td>\n    </tr>\n    <tr>\n      <th>3</th>\n      <td>4</td>\n      <td>D</td>\n      <td>E</td>\n      <td>3</td>\n    </tr>\n  </tbody>\n</table>\n</div>", 
                        "text/plain": "   ID Threat Status  Threat_Numeric\n0   1      A      0               0\n1   2      B      0               1\n2   3      C      0               2\n3   4      D      E               3"
                    }, 
                    "output_type": "execute_result"
                }
            ], 
            "source": "df_cat"
        }, 
        {
            "execution_count": 15, 
            "cell_type": "code", 
            "metadata": {}, 
            "outputs": [
                {
                    "output_type": "display_data", 
                    "data": {
                        "text/html": "<table border=\"1\" class=\"dataframe\">\n  <thead>\n    <tr style=\"text-align: right;\">\n      <th>ID</th>\n      <th>Threat</th>\n      <th>Status</th>\n      <th>Threat_Numeric</th>\n    </tr>\n  </thead>\n  <tbody>\n    <tr>\n      <td>1</td>\n      <td>None</td>\n      <td>0</td>\n      <td>0</td>\n    </tr>\n    <tr>\n      <td>2</td>\n      <td>Low</td>\n      <td>0</td>\n      <td>1</td>\n    </tr>\n    <tr>\n      <td>3</td>\n      <td>Medium</td>\n      <td>0</td>\n      <td>2</td>\n    </tr>\n    <tr>\n      <td>4</td>\n      <td>High</td>\n      <td>E</td>\n      <td>3</td>\n    </tr>\n  </tbody>\n</table>", 
                        "text/plain": "<IPython.core.display.HTML object>"
                    }, 
                    "metadata": {}
                }
            ], 
            "source": "#manual recode string to string\ndf_cat['Threat'] = df_cat['Threat'].str.replace('A','None')\ndf_cat['Threat'] = df_cat['Threat'].str.replace('B','Low')\ndf_cat['Threat'] = df_cat['Threat'].str.replace('C','Medium')\ndf_cat['Threat'] = df_cat['Threat'].str.replace('D','High')\n\ndisplay(HTML(df_cat.to_html(index=False)))"
        }, 
        {
            "execution_count": 16, 
            "cell_type": "code", 
            "metadata": {}, 
            "outputs": [
                {
                    "execution_count": 16, 
                    "metadata": {}, 
                    "data": {
                        "text/plain": "0      None\n1       Low\n2    Medium\n3      High\nName: Threat, dtype: object"
                    }, 
                    "output_type": "execute_result"
                }
            ], 
            "source": "#manual recode string to string c\na = df_cat['Threat'] = df_cat['Threat'].str.replace('A','None')\na = df_cat['Threat'] = df_cat['Threat'].str.replace('B','Low')\na = df_cat['Threat'] = df_cat['Threat'].str.replace('C','Medium')\na = df_cat['Threat'] = df_cat['Threat'].str.replace('D','High')\n\na"
        }, 
        {
            "execution_count": 74, 
            "cell_type": "code", 
            "metadata": {}, 
            "outputs": [
                {
                    "ename": "SyntaxError", 
                    "evalue": "invalid syntax (<ipython-input-74-67e96a4385d2>, line 4)", 
                    "traceback": [
                        "\u001b[0;36m  File \u001b[0;32m\"<ipython-input-74-67e96a4385d2>\"\u001b[0;36m, line \u001b[0;32m4\u001b[0m\n\u001b[0;31m    df_cat = pd.concat([df_cat, pd.get_dummies(df_cat['Threat'], drop_first = True)], axis = 1])\u001b[0m\n\u001b[0m                                                                                              ^\u001b[0m\n\u001b[0;31mSyntaxError\u001b[0m\u001b[0;31m:\u001b[0m invalid syntax\n"
                    ], 
                    "output_type": "error"
                }
            ], 
            "source": "#WORK ON Get Dummies\ndf_cat = pd.concat([df_cat, pd.get_dummies(df_cat['Threat'], drop_first = True)], axis = 1])\ndf_cat.drop('female', axis = 1, inplace = True)"
        }, 
        {
            "source": "<font color=\"blue\">Use sklearn to import data sample</font> ", 
            "cell_type": "markdown", 
            "metadata": {}
        }, 
        {
            "execution_count": 41, 
            "cell_type": "code", 
            "metadata": {}, 
            "outputs": [], 
            "source": "#import data from sklearn using load_\nimport pandas as pd\nfrom sklearn import datasets as d\nd = d.load_iris()\n#d\n"
        }, 
        {
            "source": "<b> Select Columns and Rows<b/>", 
            "cell_type": "markdown", 
            "metadata": {}
        }, 
        {
            "source": "<font color=\"blue\">Select Columns and Rows by Number</font> ", 
            "cell_type": "markdown", 
            "metadata": {}
        }, 
        {
            "execution_count": 2, 
            "cell_type": "code", 
            "metadata": {}, 
            "outputs": [
                {
                    "ename": "NameError", 
                    "evalue": "name 'pd' is not defined", 
                    "traceback": [
                        "\u001b[0;31m---------------------------------------------------------------------------\u001b[0m", 
                        "\u001b[0;31mNameError\u001b[0m                                 Traceback (most recent call last)", 
                        "\u001b[0;32m<ipython-input-2-e58c31f3b476>\u001b[0m in \u001b[0;36m<module>\u001b[0;34m()\u001b[0m\n\u001b[1;32m      5\u001b[0m \u001b[0;34m\u001b[0m\u001b[0m\n\u001b[1;32m      6\u001b[0m \u001b[0;31m#df.colummns selects first 4 columns of data. ix selects 1st, 2nd, 3rd and 7th rows of the table\u001b[0m\u001b[0;34m\u001b[0m\u001b[0;34m\u001b[0m\u001b[0m\n\u001b[0;32m----> 7\u001b[0;31m \u001b[0mpd\u001b[0m\u001b[0;34m.\u001b[0m\u001b[0mset_option\u001b[0m\u001b[0;34m(\u001b[0m\u001b[0;34m'precision'\u001b[0m\u001b[0;34m,\u001b[0m\u001b[0;36m2\u001b[0m\u001b[0;34m)\u001b[0m\u001b[0;34m\u001b[0m\u001b[0m\n\u001b[0m\u001b[1;32m      8\u001b[0m \u001b[0mdf\u001b[0m\u001b[0;34m[\u001b[0m\u001b[0mdf\u001b[0m\u001b[0;34m.\u001b[0m\u001b[0mcolumns\u001b[0m\u001b[0;34m[\u001b[0m\u001b[0;34m:\u001b[0m\u001b[0;36m4\u001b[0m\u001b[0;34m]\u001b[0m\u001b[0;34m]\u001b[0m\u001b[0;34m.\u001b[0m\u001b[0mdescribe\u001b[0m\u001b[0;34m(\u001b[0m\u001b[0;34m)\u001b[0m\u001b[0;34m.\u001b[0m\u001b[0mix\u001b[0m\u001b[0;34m[\u001b[0m\u001b[0;34m[\u001b[0m\u001b[0;36m1\u001b[0m\u001b[0;34m,\u001b[0m\u001b[0;36m2\u001b[0m\u001b[0;34m,\u001b[0m\u001b[0;36m3\u001b[0m\u001b[0;34m,\u001b[0m\u001b[0;36m7\u001b[0m\u001b[0;34m]\u001b[0m\u001b[0;34m]\u001b[0m\u001b[0;34m\u001b[0m\u001b[0m\n", 
                        "\u001b[0;31mNameError\u001b[0m: name 'pd' is not defined"
                    ], 
                    "output_type": "error"
                }
            ], 
            "source": "# pd.options.display.notebook_repr_html = True\n# df = pd.DataFrame(d.data, columns=d.feature_names)\n# df['y'] = d.target\n# df.head()\n\n#df.colummns selects first 4 columns of data. ix selects 1st, 2nd, 3rd and 7th rows of the table \npd.set_option('precision',2)\ndf[df.columns[:4]].describe().ix[[1,2,3,7]]"
        }, 
        {
            "execution_count": null, 
            "cell_type": "code", 
            "metadata": {}, 
            "outputs": [], 
            "source": ""
        }, 
        {
            "source": "<b>Merge Files</b> ", 
            "cell_type": "markdown", 
            "metadata": {}
        }, 
        {
            "execution_count": 48, 
            "cell_type": "code", 
            "metadata": {}, 
            "outputs": [
                {
                    "output_type": "display_data", 
                    "data": {
                        "text/html": "<table border=\"1\" class=\"dataframe\">\n  <thead>\n    <tr style=\"text-align: right;\">\n      <th>X1</th>\n      <th>X2</th>\n    </tr>\n  </thead>\n  <tbody>\n    <tr>\n      <td>a</td>\n      <td>1</td>\n    </tr>\n    <tr>\n      <td>b</td>\n      <td>2</td>\n    </tr>\n    <tr>\n      <td>c</td>\n      <td>3</td>\n    </tr>\n  </tbody>\n</table>", 
                        "text/plain": "<IPython.core.display.HTML object>"
                    }, 
                    "metadata": {}
                }, 
                {
                    "output_type": "display_data", 
                    "data": {
                        "text/html": "<table border=\"1\" class=\"dataframe\">\n  <thead>\n    <tr style=\"text-align: right;\">\n      <th>X1</th>\n      <th>X3</th>\n    </tr>\n  </thead>\n  <tbody>\n    <tr>\n      <td>a</td>\n      <td>2</td>\n    </tr>\n    <tr>\n      <td>b</td>\n      <td>4</td>\n    </tr>\n    <tr>\n      <td>d</td>\n      <td>8</td>\n    </tr>\n  </tbody>\n</table>", 
                        "text/plain": "<IPython.core.display.HTML object>"
                    }, 
                    "metadata": {}
                }, 
                {
                    "ename": "AttributeError", 
                    "evalue": "'NoneType' object has no attribute 'to_html'", 
                    "traceback": [
                        "\u001b[0;31m---------------------------------------------------------------------------\u001b[0m", 
                        "\u001b[0;31mAttributeError\u001b[0m                            Traceback (most recent call last)", 
                        "\u001b[0;32m<ipython-input-48-c7c64bba15db>\u001b[0m in \u001b[0;36m<module>\u001b[0;34m()\u001b[0m\n\u001b[1;32m      3\u001b[0m \u001b[0;34m\u001b[0m\u001b[0m\n\u001b[1;32m      4\u001b[0m \u001b[0;32mfrom\u001b[0m \u001b[0mIPython\u001b[0m\u001b[0;34m.\u001b[0m\u001b[0mdisplay\u001b[0m \u001b[0;32mimport\u001b[0m \u001b[0mdisplay\u001b[0m\u001b[0;34m,\u001b[0m \u001b[0mHTML\u001b[0m\u001b[0;34m\u001b[0m\u001b[0m\n\u001b[0;32m----> 5\u001b[0;31m \u001b[0mdisplay_side_by_side\u001b[0m\u001b[0;34m(\u001b[0m\u001b[0;34m(\u001b[0m\u001b[0mdisplay\u001b[0m\u001b[0;34m(\u001b[0m\u001b[0mHTML\u001b[0m\u001b[0;34m(\u001b[0m\u001b[0mdata1\u001b[0m\u001b[0;34m.\u001b[0m\u001b[0mto_html\u001b[0m\u001b[0;34m(\u001b[0m\u001b[0mindex\u001b[0m\u001b[0;34m=\u001b[0m\u001b[0;32mFalse\u001b[0m\u001b[0;34m)\u001b[0m\u001b[0;34m)\u001b[0m\u001b[0;34m)\u001b[0m\u001b[0;34m)\u001b[0m\u001b[0;34m,\u001b[0m \u001b[0;34m(\u001b[0m\u001b[0mdisplay\u001b[0m\u001b[0;34m(\u001b[0m\u001b[0mHTML\u001b[0m\u001b[0;34m(\u001b[0m\u001b[0mdata2\u001b[0m\u001b[0;34m.\u001b[0m\u001b[0mto_html\u001b[0m\u001b[0;34m(\u001b[0m\u001b[0mindex\u001b[0m\u001b[0;34m=\u001b[0m\u001b[0;32mFalse\u001b[0m\u001b[0;34m)\u001b[0m\u001b[0;34m)\u001b[0m\u001b[0;34m)\u001b[0m\u001b[0;34m)\u001b[0m\u001b[0;34m)\u001b[0m\u001b[0;34m\u001b[0m\u001b[0m\n\u001b[0m\u001b[1;32m      6\u001b[0m \u001b[0;34m\u001b[0m\u001b[0m\n", 
                        "\u001b[0;32m<ipython-input-19-9f3105caa163>\u001b[0m in \u001b[0;36mdisplay_side_by_side\u001b[0;34m(*args)\u001b[0m\n\u001b[1;32m      4\u001b[0m     \u001b[0mhtml_str\u001b[0m\u001b[0;34m=\u001b[0m\u001b[0;34m''\u001b[0m\u001b[0;34m\u001b[0m\u001b[0m\n\u001b[1;32m      5\u001b[0m     \u001b[0;32mfor\u001b[0m \u001b[0mdf\u001b[0m \u001b[0;32min\u001b[0m \u001b[0margs\u001b[0m\u001b[0;34m:\u001b[0m\u001b[0;34m\u001b[0m\u001b[0m\n\u001b[0;32m----> 6\u001b[0;31m         \u001b[0mhtml_str\u001b[0m\u001b[0;34m+=\u001b[0m\u001b[0mdf\u001b[0m\u001b[0;34m.\u001b[0m\u001b[0mto_html\u001b[0m\u001b[0;34m(\u001b[0m\u001b[0;34m)\u001b[0m\u001b[0;34m\u001b[0m\u001b[0m\n\u001b[0m\u001b[1;32m      7\u001b[0m     \u001b[0mdisplay_html\u001b[0m\u001b[0;34m(\u001b[0m\u001b[0mhtml_str\u001b[0m\u001b[0;34m.\u001b[0m\u001b[0mreplace\u001b[0m\u001b[0;34m(\u001b[0m\u001b[0;34m'table'\u001b[0m\u001b[0;34m,\u001b[0m\u001b[0;34m'table style=\"display:inline\"'\u001b[0m\u001b[0;34m)\u001b[0m\u001b[0;34m,\u001b[0m\u001b[0mraw\u001b[0m\u001b[0;34m=\u001b[0m\u001b[0;32mTrue\u001b[0m\u001b[0;34m)\u001b[0m\u001b[0;34m\u001b[0m\u001b[0m\n", 
                        "\u001b[0;31mAttributeError\u001b[0m: 'NoneType' object has no attribute 'to_html'"
                    ], 
                    "output_type": "error"
                }
            ], 
            "source": "data1 = pd.DataFrame({'X1':['a','b','c'],'X2':['1','2','3']}) \ndata2 = pd.DataFrame({'X1':['a','b','d'], 'X3':['2','4','8']})\n\nfrom IPython.display import display, HTML\ndisplay_side_by_side((display(HTML(data1.to_html(index=False)))), (display(HTML(data2.to_html(index=False)))))\n\n"
        }, 
        {
            "execution_count": 47, 
            "cell_type": "code", 
            "metadata": {}, 
            "outputs": [
                {
                    "output_type": "display_data", 
                    "data": {
                        "text/html": "<table style=\"display:inline\" border=\"1\" class=\"dataframe\">\n  <thead>\n    <tr style=\"text-align: right;\">\n      <th></th>\n      <th>X1</th>\n      <th>X2</th>\n    </tr>\n  </thead>\n  <tbody>\n    <tr>\n      <th>0</th>\n      <td>a</td>\n      <td>1</td>\n    </tr>\n    <tr>\n      <th>1</th>\n      <td>b</td>\n      <td>2</td>\n    </tr>\n    <tr>\n      <th>2</th>\n      <td>c</td>\n      <td>3</td>\n    </tr>\n  </tbody>\n</table style=\"display:inline\"><table style=\"display:inline\" border=\"1\" class=\"dataframe\">\n  <thead>\n    <tr style=\"text-align: right;\">\n      <th></th>\n      <th>X1</th>\n      <th>X3</th>\n    </tr>\n  </thead>\n  <tbody>\n    <tr>\n      <th>0</th>\n      <td>a</td>\n      <td>2</td>\n    </tr>\n    <tr>\n      <th>1</th>\n      <td>b</td>\n      <td>4</td>\n    </tr>\n    <tr>\n      <th>2</th>\n      <td>d</td>\n      <td>8</td>\n    </tr>\n  </tbody>\n</table style=\"display:inline\"><table style=\"display:inline\" border=\"1\" class=\"dataframe\">\n  <thead>\n    <tr style=\"text-align: right;\">\n      <th></th>\n      <th>X1</th>\n      <th>X2</th>\n      <th>X3</th>\n    </tr>\n  </thead>\n  <tbody>\n    <tr>\n      <th>0</th>\n      <td>a</td>\n      <td>1</td>\n      <td>2</td>\n    </tr>\n    <tr>\n      <th>1</th>\n      <td>b</td>\n      <td>2</td>\n      <td>4</td>\n    </tr>\n    <tr>\n      <th>2</th>\n      <td>c</td>\n      <td>3</td>\n      <td>NaN</td>\n    </tr>\n  </tbody>\n</table style=\"display:inline\">"
                    }, 
                    "metadata": {}
                }
            ], 
            "source": "#Left Join: only include keys from data1\ndf_LeftJoin = pd.merge(data1, data2, how='left', on='X1')\ndisplay_side_by_side(data1, data2, df_LeftJoin)"
        }, 
        {
            "execution_count": 45, 
            "cell_type": "code", 
            "metadata": {}, 
            "outputs": [
                {
                    "output_type": "display_data", 
                    "data": {
                        "text/html": "<table style=\"display:inline\" border=\"1\" class=\"dataframe\">\n  <thead>\n    <tr style=\"text-align: right;\">\n      <th></th>\n      <th>X1</th>\n      <th>X2</th>\n    </tr>\n  </thead>\n  <tbody>\n    <tr>\n      <th>0</th>\n      <td>a</td>\n      <td>1</td>\n    </tr>\n    <tr>\n      <th>1</th>\n      <td>b</td>\n      <td>2</td>\n    </tr>\n    <tr>\n      <th>2</th>\n      <td>c</td>\n      <td>3</td>\n    </tr>\n  </tbody>\n</table style=\"display:inline\"><table style=\"display:inline\" border=\"1\" class=\"dataframe\">\n  <thead>\n    <tr style=\"text-align: right;\">\n      <th></th>\n      <th>X1</th>\n      <th>X3</th>\n    </tr>\n  </thead>\n  <tbody>\n    <tr>\n      <th>0</th>\n      <td>a</td>\n      <td>2</td>\n    </tr>\n    <tr>\n      <th>1</th>\n      <td>b</td>\n      <td>4</td>\n    </tr>\n    <tr>\n      <th>2</th>\n      <td>d</td>\n      <td>8</td>\n    </tr>\n  </tbody>\n</table style=\"display:inline\"><table style=\"display:inline\" border=\"1\" class=\"dataframe\">\n  <thead>\n    <tr style=\"text-align: right;\">\n      <th></th>\n      <th>X1</th>\n      <th>X2</th>\n      <th>X3</th>\n    </tr>\n  </thead>\n  <tbody>\n    <tr>\n      <th>0</th>\n      <td>a</td>\n      <td>1</td>\n      <td>2</td>\n    </tr>\n    <tr>\n      <th>1</th>\n      <td>b</td>\n      <td>2</td>\n      <td>4</td>\n    </tr>\n    <tr>\n      <th>2</th>\n      <td>d</td>\n      <td>NaN</td>\n      <td>8</td>\n    </tr>\n  </tbody>\n</table style=\"display:inline\">"
                    }, 
                    "metadata": {}
                }
            ], 
            "source": "#Right Join: only include keys from data2\ndf_RightJoin = pd.merge(data1, data2, how='right', on='X1')\ndisplay_side_by_side(data1, data2, df_RightJoin)"
        }, 
        {
            "execution_count": 46, 
            "cell_type": "code", 
            "metadata": {}, 
            "outputs": [
                {
                    "output_type": "display_data", 
                    "data": {
                        "text/html": "<table style=\"display:inline\" border=\"1\" class=\"dataframe\">\n  <thead>\n    <tr style=\"text-align: right;\">\n      <th></th>\n      <th>X1</th>\n      <th>X2</th>\n    </tr>\n  </thead>\n  <tbody>\n    <tr>\n      <th>0</th>\n      <td>a</td>\n      <td>1</td>\n    </tr>\n    <tr>\n      <th>1</th>\n      <td>b</td>\n      <td>2</td>\n    </tr>\n    <tr>\n      <th>2</th>\n      <td>c</td>\n      <td>3</td>\n    </tr>\n  </tbody>\n</table style=\"display:inline\"><table style=\"display:inline\" border=\"1\" class=\"dataframe\">\n  <thead>\n    <tr style=\"text-align: right;\">\n      <th></th>\n      <th>X1</th>\n      <th>X3</th>\n    </tr>\n  </thead>\n  <tbody>\n    <tr>\n      <th>0</th>\n      <td>a</td>\n      <td>2</td>\n    </tr>\n    <tr>\n      <th>1</th>\n      <td>b</td>\n      <td>4</td>\n    </tr>\n    <tr>\n      <th>2</th>\n      <td>d</td>\n      <td>8</td>\n    </tr>\n  </tbody>\n</table style=\"display:inline\"><table style=\"display:inline\" border=\"1\" class=\"dataframe\">\n  <thead>\n    <tr style=\"text-align: right;\">\n      <th></th>\n      <th>X1</th>\n      <th>X2</th>\n      <th>X3</th>\n    </tr>\n  </thead>\n  <tbody>\n    <tr>\n      <th>0</th>\n      <td>a</td>\n      <td>1</td>\n      <td>2</td>\n    </tr>\n    <tr>\n      <th>1</th>\n      <td>b</td>\n      <td>2</td>\n      <td>4</td>\n    </tr>\n  </tbody>\n</table style=\"display:inline\">"
                    }, 
                    "metadata": {}
                }
            ], 
            "source": "#Inner Join: only key values present in both data1 and data2\ndf_InnerJoin = pd.merge(data1, data2, how='inner', on='X1')\ndisplay_side_by_side(data1, data2, df_InnerJoin)"
        }, 
        {
            "execution_count": 29, 
            "cell_type": "code", 
            "metadata": {}, 
            "outputs": [
                {
                    "output_type": "display_data", 
                    "data": {
                        "text/html": "<table style=\"display:inline\" border=\"1\" class=\"dataframe\">\n  <thead>\n    <tr style=\"text-align: right;\">\n      <th></th>\n      <th>X1</th>\n      <th>X2</th>\n    </tr>\n  </thead>\n  <tbody>\n    <tr>\n      <th>0</th>\n      <td>a</td>\n      <td>1</td>\n    </tr>\n    <tr>\n      <th>1</th>\n      <td>b</td>\n      <td>2</td>\n    </tr>\n    <tr>\n      <th>2</th>\n      <td>c</td>\n      <td>3</td>\n    </tr>\n  </tbody>\n</table style=\"display:inline\"><table style=\"display:inline\" border=\"1\" class=\"dataframe\">\n  <thead>\n    <tr style=\"text-align: right;\">\n      <th></th>\n      <th>X1</th>\n      <th>X3</th>\n    </tr>\n  </thead>\n  <tbody>\n    <tr>\n      <th>0</th>\n      <td>a</td>\n      <td>2</td>\n    </tr>\n    <tr>\n      <th>1</th>\n      <td>b</td>\n      <td>4</td>\n    </tr>\n    <tr>\n      <th>2</th>\n      <td>d</td>\n      <td>8</td>\n    </tr>\n  </tbody>\n</table style=\"display:inline\"><table style=\"display:inline\" border=\"1\" class=\"dataframe\">\n  <thead>\n    <tr style=\"text-align: right;\">\n      <th></th>\n      <th>X1</th>\n      <th>X2</th>\n      <th>X3</th>\n    </tr>\n  </thead>\n  <tbody>\n    <tr>\n      <th>0</th>\n      <td>a</td>\n      <td>1.0</td>\n      <td>2.0</td>\n    </tr>\n    <tr>\n      <th>1</th>\n      <td>b</td>\n      <td>2.0</td>\n      <td>4.0</td>\n    </tr>\n    <tr>\n      <th>2</th>\n      <td>c</td>\n      <td>3.0</td>\n      <td>NaN</td>\n    </tr>\n    <tr>\n      <th>3</th>\n      <td>d</td>\n      <td>NaN</td>\n      <td>8.0</td>\n    </tr>\n  </tbody>\n</table style=\"display:inline\">"
                    }, 
                    "metadata": {}
                }
            ], 
            "source": "#Outer Join: key values in either data1 or data2\ndf_OuterJoin = pd.merge(data1, data2, how='outer', on='X1')\ndisplay_side_by_side(data1, data2, df_OuterJoin)"
        }, 
        {
            "source": "Join", 
            "cell_type": "markdown", 
            "metadata": {}
        }, 
        {
            "execution_count": null, 
            "cell_type": "code", 
            "metadata": {
                "collapsed": true
            }, 
            "outputs": [], 
            "source": "#data1.join(data2, how='right')"
        }, 
        {
            "execution_count": null, 
            "cell_type": "code", 
            "metadata": {}, 
            "outputs": [], 
            "source": ""
        }, 
        {
            "source": "<b>Rename Variables No Space<b/>", 
            "cell_type": "markdown", 
            "metadata": {}
        }, 
        {
            "execution_count": null, 
            "cell_type": "code", 
            "metadata": {}, 
            "outputs": [], 
            "source": "#df.columns = [c.replace(' ', '_') for c in df.columns]"
        }, 
        {
            "execution_count": 7, 
            "cell_type": "code", 
            "metadata": {}, 
            "outputs": [
                {
                    "output_type": "stream", 
                    "name": "stdout", 
                    "text": "File Shape = (4, 2)\nFile Size (Row Xs Columns) = 8\nN = 4\nFile Data Types are:\nID          int64\nVAR0001    object\ndtype: object\n"
                }
            ], 
            "source": "# #print attributes of dataframe\n\nprint('File Shape = ' + str(mf.shape), \n      'File Size (Row Xs Columns) = ' + str(mf.size), \n      'N = '+ str(len(mf.index)), \n      'File Data Types are:', mf.dtypes\n       , sep='\\n')"
        }, 
        {
            "execution_count": null, 
            "cell_type": "code", 
            "metadata": {}, 
            "outputs": [], 
            "source": ""
        }, 
        {
            "source": "<b>Data Types<b/>", 
            "cell_type": "markdown", 
            "metadata": {}
        }, 
        {
            "execution_count": 25, 
            "cell_type": "code", 
            "metadata": {}, 
            "outputs": [
                {
                    "output_type": "stream", 
                    "name": "stdout", 
                    "text": "<class 'numpy.int64'> <class 'str'>\n"
                }
            ], 
            "source": "# type for ID and VAR0001\nx = type(mf.ID[0])\ny = type(mf.VAR0001[0])\nprint(x,y)\n"
        }, 
        {
            "source": "<b>Directory Listing and Interrogating<b/>", 
            "cell_type": "markdown", 
            "metadata": {}
        }, 
        {
            "execution_count": 4, 
            "cell_type": "code", 
            "metadata": {}, 
            "outputs": [
                {
                    "output_type": "stream", 
                    "name": "stdout", 
                    "text": "['MY NOTES.ipynb', '.ipynb_checkpoints'] /Users/jparryus.ibm.com/Box Sync/Notebooks\n"
                }
            ], 
            "source": "#list what objects are in a specific directory\n# import os\n# entries = os.listdir('/resources/data')\n# print(entries)\n\n#print the current working directory and the files in the cwd\n\nimport os \nfiles = os.listdir(os.curdir) \n#use percent to print working directory inline\nfiles1 = %pwd\n\nprint(files, files1)\n"
        }, 
        {
            "execution_count": null, 
            "cell_type": "code", 
            "metadata": {}, 
            "outputs": [], 
            "source": "import pandas as pd"
        }, 
        {
            "execution_count": 19, 
            "cell_type": "code", 
            "metadata": {}, 
            "outputs": [], 
            "source": "#creating output format\nfrom IPython.display import display_html\ndef display_side_by_side(*args):\n    html_str=''\n    for df in args:\n        html_str+=df.to_html()\n    display_html(html_str.replace('table','table style=\"display:inline\"'),raw=True)"
        }, 
        {
            "execution_count": 8, 
            "cell_type": "code", 
            "metadata": {}, 
            "outputs": [
                {
                    "output_type": "display_data", 
                    "data": {
                        "text/html": "<table style=\"display:inline\" border=\"1\" class=\"dataframe\">\n  <thead>\n    <tr style=\"text-align: right;\">\n      <th></th>\n      <th>X1</th>\n      <th>X2</th>\n    </tr>\n  </thead>\n  <tbody>\n    <tr>\n      <th>0</th>\n      <td>a</td>\n      <td>1</td>\n    </tr>\n    <tr>\n      <th>1</th>\n      <td>b</td>\n      <td>2</td>\n    </tr>\n    <tr>\n      <th>2</th>\n      <td>c</td>\n      <td>3</td>\n    </tr>\n  </tbody>\n</table style=\"display:inline\"><table style=\"display:inline\" border=\"1\" class=\"dataframe\">\n  <thead>\n    <tr style=\"text-align: right;\">\n      <th></th>\n      <th>X1</th>\n      <th>X3</th>\n    </tr>\n  </thead>\n  <tbody>\n    <tr>\n      <th>0</th>\n      <td>a</td>\n      <td>2</td>\n    </tr>\n    <tr>\n      <th>1</th>\n      <td>b</td>\n      <td>4</td>\n    </tr>\n    <tr>\n      <th>2</th>\n      <td>d</td>\n      <td>8</td>\n    </tr>\n  </tbody>\n</table style=\"display:inline\"><table style=\"display:inline\" border=\"1\" class=\"dataframe\">\n  <thead>\n    <tr style=\"text-align: right;\">\n      <th></th>\n      <th>X1</th>\n      <th>X3</th>\n    </tr>\n  </thead>\n  <tbody>\n    <tr>\n      <th>0</th>\n      <td>a</td>\n      <td>2</td>\n    </tr>\n    <tr>\n      <th>1</th>\n      <td>b</td>\n      <td>4</td>\n    </tr>\n    <tr>\n      <th>2</th>\n      <td>d</td>\n      <td>8</td>\n    </tr>\n  </tbody>\n</table style=\"display:inline\">"
                    }, 
                    "metadata": {}
                }
            ], 
            "source": "data1 = pd.read_csv('/Users/jparryus.ibm.com/Box Sync/Learning/PYRK8/Pandas Merge/data1.csv')\ndata2 = pd.read_csv('/Users/jparryus.ibm.com/Box Sync/Learning/PYRK8/Pandas Merge/data12.csv')\ndata3 = pd.read_csv('/Users/jparryus.ibm.com/Box Sync/Learning/PYRK8/Pandas Merge/data12.csv')\n\ndisplay_side_by_side(data1,data2, data3)"
        }, 
        {
            "execution_count": null, 
            "cell_type": "code", 
            "metadata": {}, 
            "outputs": [], 
            "source": "data1."
        }, 
        {
            "execution_count": 10, 
            "cell_type": "code", 
            "metadata": {}, 
            "outputs": [
                {
                    "execution_count": 10, 
                    "metadata": {}, 
                    "data": {
                        "text/plain": "'<table border=\"1\" class=\"dataframe\">\\n  <thead>\\n    <tr style=\"text-align: right;\">\\n      <th></th>\\n      <th>X1</th>\\n      <th>X2</th>\\n    </tr>\\n  </thead>\\n  <tbody>\\n    <tr>\\n      <th>0</th>\\n      <td>a</td>\\n      <td>1</td>\\n    </tr>\\n    <tr>\\n      <th>1</th>\\n      <td>b</td>\\n      <td>2</td>\\n    </tr>\\n    <tr>\\n      <th>2</th>\\n      <td>c</td>\\n      <td>3</td>\\n    </tr>\\n  </tbody>\\n</table>'"
                    }, 
                    "output_type": "execute_result"
                }
            ], 
            "source": "datax = data1.to_html()\ndatax"
        }, 
        {
            "source": "'<table border=\"1\" class=\"dataframe\">\\n  <thead>\\n    <tr style=\"text-align: right;\">\\n      <th></th>\\n      <th>X1</th>\\n      <th>X2</th>\\n    </tr>\\n  </thead>\\n  <tbody>\\n    <tr>\\n      <th>0</th>\\n      <td>a</td>\\n      <td>1</td>\\n    </tr>\\n    <tr>\\n      <th>1</th>\\n      <td>b</td>\\n      <td>2</td>\\n    </tr>\\n    <tr>\\n      <th>2</th>\\n      <td>c</td>\\n      <td>3</td>\\n    </tr>\\n  </tbody>\\n</table>'", 
            "cell_type": "markdown", 
            "metadata": {}
        }, 
        {
            "execution_count": null, 
            "cell_type": "code", 
            "metadata": {}, 
            "outputs": [], 
            "source": ""
        }, 
        {
            "execution_count": 38, 
            "cell_type": "code", 
            "metadata": {}, 
            "outputs": [
                {
                    "execution_count": 38, 
                    "metadata": {}, 
                    "data": {
                        "text/plain": "'a'"
                    }, 
                    "output_type": "execute_result"
                }
            ], 
            "source": "x = mf.VAR0001[0].lower()\nx\n"
        }, 
        {
            "source": "<b>Strings<b/>\n    ", 
            "cell_type": "markdown", 
            "metadata": {}
        }, 
        {
            "source": "<b> Later<b/>", 
            "cell_type": "markdown", 
            "metadata": {}
        }, 
        {
            "execution_count": null, 
            "cell_type": "code", 
            "metadata": {}, 
            "outputs": [], 
            "source": ""
        }, 
        {
            "execution_count": null, 
            "cell_type": "code", 
            "metadata": {}, 
            "outputs": [], 
            "source": ""
        }, 
        {
            "source": "<b>Loops<b/>", 
            "cell_type": "markdown", 
            "metadata": {}
        }, 
        {
            "execution_count": 69, 
            "cell_type": "code", 
            "metadata": {}, 
            "outputs": [
                {
                    "output_type": "stream", 
                    "name": "stdout", 
                    "text": "disco\n10\n1.2\n"
                }
            ], 
            "source": "#Ex1 print each member of the tuple\n\ntuple1 = (\"disco\",10,1.2 )\ni = len(tuple1)\ni=(i-1)\nfor i in range(i+1):\n    print(tuple1[i])\n\n"
        }, 
        {
            "execution_count": 71, 
            "cell_type": "code", 
            "metadata": {}, 
            "outputs": [
                {
                    "output_type": "stream", 
                    "name": "stdout", 
                    "text": "(1, 2)\n(4, 5)\n(8, 9)\n(13, 14)\n"
                }
            ], 
            "source": "#Ex2 print each nested member of the tuple\nNestedT = ((1, 2), (3,4,5),(6,7,8,9),(10,11,12,13,14))\nn = NestedT\na = len(n)\n\nfor i in range(a):\n    b = n[i]\n    c = b[i:a+1]\n    print(c)\n    \n    \n    "
        }, 
        {
            "execution_count": 74, 
            "cell_type": "code", 
            "metadata": {}, 
            "outputs": [
                {
                    "output_type": "stream", 
                    "name": "stdout", 
                    "text": "Element 1, 1 of Tuple:  1\nElement 1, 2 of Tuple:  2\nElement 2, 1 of Tuple:  3\nElement 2, 2 of Tuple:  4\nElement 2, 3 of Tuple:  5\n"
                }
            ], 
            "source": "#loop this (above)\n\n\nprint(\"Element 1, 1 of Tuple: \",   n[0][0])\nprint(\"Element 1, 2 of Tuple: \",   n[0][1])\nprint(\"Element 2, 1 of Tuple: \",   n[1][0])\nprint(\"Element 2, 2 of Tuple: \",   n[1][1])\nprint(\"Element 2, 3 of Tuple: \",   n[1][2])\n"
        }, 
        {
            "execution_count": null, 
            "cell_type": "code", 
            "metadata": {}, 
            "outputs": [], 
            "source": "#create a separate csv for each row: LATER\n\n#for ID in myfile:\n#    TheCurrentMonth = pd.read_csv('MonthlyDataSplit/Day/Day%s.csv' % EachMonth)\n#    MeanDailyTemperaturesForCurrentMonth = TheCurrentMonth.groupby('Day')['AirTemperature'].mean().reset_index(name='MeanDailyAirTemperature')\n#     with open('my_csv.csv', 'a') as f:\n#         df.to_csv(f, header=False)\n\n\n\n\n"
        }, 
        {
            "source": "<b>Crosstabulation and Descriptives<b/>", 
            "cell_type": "markdown", 
            "metadata": {}
        }, 
        {
            "execution_count": null, 
            "cell_type": "code", 
            "metadata": {}, 
            "outputs": [], 
            "source": "#pd.crosstab(df.City, df.Complaint_Type, rownames = ['A'], colnames= 'B')"
        }, 
        {
            "execution_count": 1, 
            "cell_type": "code", 
            "metadata": {}, 
            "outputs": [
                {
                    "output_type": "stream", 
                    "name": "stdout", 
                    "text": "['MY NOTES.ipynb', '.ipynb_checkpoints'] /Users/jparryus.ibm.com/Box Sync/Notebooks\n"
                }
            ], 
            "source": ""
        }, 
        {
            "execution_count": 2, 
            "cell_type": "code", 
            "metadata": {}, 
            "outputs": [
                {
                    "execution_count": 2, 
                    "metadata": {}, 
                    "data": {
                        "text/html": "<div>\n<style scoped>\n    .dataframe tbody tr th:only-of-type {\n        vertical-align: middle;\n    }\n\n    .dataframe tbody tr th {\n        vertical-align: top;\n    }\n\n    .dataframe thead th {\n        text-align: right;\n    }\n</style>\n<table border=\"1\" class=\"dataframe\">\n  <thead>\n    <tr style=\"text-align: right;\">\n      <th></th>\n      <th>X1</th>\n      <th>X2</th>\n    </tr>\n  </thead>\n  <tbody>\n    <tr>\n      <th>0</th>\n      <td>a</td>\n      <td>1</td>\n    </tr>\n    <tr>\n      <th>1</th>\n      <td>b</td>\n      <td>2</td>\n    </tr>\n    <tr>\n      <th>2</th>\n      <td>c</td>\n      <td>3</td>\n    </tr>\n  </tbody>\n</table>\n</div>", 
                        "text/plain": "  X1  X2\n0  a   1\n1  b   2\n2  c   3"
                    }, 
                    "output_type": "execute_result"
                }
            ], 
            "source": "# data1 = pd.read_csv('/Users/jparryus.ibm.com/Box Sync/Learning/PYRK8/Pandas Merge/data1.csv')\n# data2 = pd.read_csv('/Users/jparryus.ibm.com/Box Sync/Learning/PYRK8/Pandas Merge/data12.csv')\n\ndata1.head() "
        }, 
        {
            "execution_count": null, 
            "cell_type": "code", 
            "metadata": {}, 
            "outputs": [], 
            "source": ""
        }, 
        {
            "execution_count": null, 
            "cell_type": "code", 
            "metadata": {}, 
            "outputs": [], 
            "source": ""
        }, 
        {
            "source": "<b>Output Formatting</b>", 
            "cell_type": "markdown", 
            "metadata": {}
        }, 
        {
            "execution_count": null, 
            "cell_type": "code", 
            "metadata": {}, 
            "outputs": [], 
            "source": "#creating output format that will place output tables side by side\nfrom IPython.display import display_html\ndef display_side_by_side(*args):\n    html_str=''\n    for df in args:\n        html_str+=df.to_html()\n    display_html(html_str.replace('table','table style=\"display:inline\"'),raw=True)"
        }, 
        {
            "source": "#### Get rid of ugly index in header tables", 
            "cell_type": "markdown", 
            "metadata": {}
        }, 
        {
            "execution_count": 11, 
            "cell_type": "code", 
            "metadata": {}, 
            "outputs": [
                {
                    "output_type": "display_data", 
                    "data": {
                        "text/html": "<table border=\"1\" class=\"dataframe\">\n  <thead>\n    <tr style=\"text-align: right;\">\n      <th>X1</th>\n      <th>X2</th>\n    </tr>\n  </thead>\n  <tbody>\n    <tr>\n      <td>a</td>\n      <td>1</td>\n    </tr>\n    <tr>\n      <td>b</td>\n      <td>2</td>\n    </tr>\n    <tr>\n      <td>c</td>\n      <td>3</td>\n    </tr>\n  </tbody>\n</table>", 
                        "text/plain": "<IPython.core.display.HTML object>"
                    }, 
                    "metadata": {}
                }
            ], 
            "source": "#make data1. Use \ndata1 = pd.DataFrame({'X1':['a','b','c'],'X2':['1','2','3']}) \n#from: https://stackoverflow.com/questions/21256013/pandas-dataframe-hide-index-functionality, searched: suppress index from header\n\nfrom IPython.display import display, HTML\n\n#display(HTML(DATAFRAME.to_html(index=False)))\ndisplay(HTML(data1.to_html(index=False)))"
        }, 
        {
            "source": "<b>First Attempts<b/>", 
            "cell_type": "markdown", 
            "metadata": {}
        }, 
        {
            "execution_count": null, 
            "cell_type": "code", 
            "metadata": {}, 
            "outputs": [], 
            "source": "################################Other Attempts######################################    \n# #create data out of thin air! Probably not the best way to do it, but it works :)\n# with open('/resources/data/xample1.txt', 'w') as writefile:\n#     writefile.write('ID, VAR0001 \\n')\n#     writefile.write('1,A \\n')\n#     writefile.write('2,B \\n')\n#     writefile.write('3,C \\n')\n    \n#add column names using Pandas\n#if there were no header, this is how you add a header/var names in pandas\n#myfile = pd.read_csv('/resources/data/xample1.txt', \n#                  sep='\\,', \n#                  names=['ID', 'VAR0001'])\n#myfile = pd.read_csv('/resources/data/xample1.txt', sep=',')\n# Check whether write to file worked\n#Create a file called xample1 and populate with 3 rows and three columns each corresponding to 1,A /n 2,B .... etc. \n\n#create file\n#f= open(\"/resources/data/xample1.txt\",\"w+\")\n\n\n"
        }, 
        {
            "source": "<img alt=\"IBM\" align=\"right\" src=\"https://raw.githubusercontent.com/dcinnovator/DS/master/IBM%20LOGO%20small.png\" > <br><br><br><br>", 
            "cell_type": "markdown", 
            "metadata": {}
        }, 
        {
            "execution_count": null, 
            "cell_type": "code", 
            "metadata": {}, 
            "outputs": [], 
            "source": ""
        }
    ], 
    "metadata": {
        "kernelspec": {
            "display_name": "Python 3.5", 
            "name": "python3", 
            "language": "python"
        }, 
        "language_info": {
            "mimetype": "text/x-python", 
            "nbconvert_exporter": "python", 
            "version": "3.5.5", 
            "name": "python", 
            "file_extension": ".py", 
            "pygments_lexer": "ipython3", 
            "codemirror_mode": {
                "version": 3, 
                "name": "ipython"
            }
        }
    }, 
    "nbformat": 4
}