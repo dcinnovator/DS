{
 "cells": [
  {
   "cell_type": "markdown",
   "metadata": {},
   "source": [
    "<img alt=\"IBM\" align=\"left\" src=\"https://raw.githubusercontent.com/dcinnovator/DS/master/IBM%20logo.png\" > <br><br><br><br>\n",
    "\n",
    "\n"
   ]
  },
  {
   "cell_type": "markdown",
   "metadata": {},
   "source": [
    "<b>My Notes<b/>"
   ]
  },
  {
   "cell_type": "code",
   "execution_count": 2,
   "metadata": {},
   "outputs": [
    {
     "data": {
      "text/plain": [
       "'/Users/jparryus.ibm.com/Box Sync/Notebooks'"
      ]
     },
     "execution_count": 2,
     "metadata": {},
     "output_type": "execute_result"
    }
   ],
   "source": [
    "#print working directory\n",
    "pwd"
   ]
  },
  {
   "cell_type": "code",
   "execution_count": 3,
   "metadata": {
    "scrolled": true
   },
   "outputs": [],
   "source": [
    "#conda install git\n",
    "#installed not sure how to use yet"
   ]
  },
  {
   "cell_type": "code",
   "execution_count": 5,
   "metadata": {},
   "outputs": [],
   "source": [
    "#although there are many ways to manipulate files, pandas is widely used and should be familiar. This example uses pandas for data manipulation...\n",
    "\n",
    "import pandas as pd"
   ]
  },
  {
   "cell_type": "code",
   "execution_count": null,
   "metadata": {},
   "outputs": [],
   "source": []
  },
  {
   "cell_type": "markdown",
   "metadata": {},
   "source": [
    "<b>Create/Read/Write/Populate/Describe files<b/>"
   ]
  },
  {
   "cell_type": "code",
   "execution_count": 5,
   "metadata": {},
   "outputs": [
    {
     "data": {
      "text/html": [
       "<div>\n",
       "<style scoped>\n",
       "    .dataframe tbody tr th:only-of-type {\n",
       "        vertical-align: middle;\n",
       "    }\n",
       "\n",
       "    .dataframe tbody tr th {\n",
       "        vertical-align: top;\n",
       "    }\n",
       "\n",
       "    .dataframe thead th {\n",
       "        text-align: right;\n",
       "    }\n",
       "</style>\n",
       "<table border=\"1\" class=\"dataframe\">\n",
       "  <thead>\n",
       "    <tr style=\"text-align: right;\">\n",
       "      <th></th>\n",
       "      <th>ID</th>\n",
       "      <th>VAR0001</th>\n",
       "    </tr>\n",
       "  </thead>\n",
       "  <tbody>\n",
       "    <tr>\n",
       "      <th>0</th>\n",
       "      <td>1</td>\n",
       "      <td>A</td>\n",
       "    </tr>\n",
       "    <tr>\n",
       "      <th>1</th>\n",
       "      <td>2</td>\n",
       "      <td>B</td>\n",
       "    </tr>\n",
       "    <tr>\n",
       "      <th>2</th>\n",
       "      <td>3</td>\n",
       "      <td>C</td>\n",
       "    </tr>\n",
       "  </tbody>\n",
       "</table>\n",
       "</div>"
      ],
      "text/plain": [
       "   ID VAR0001\n",
       "0   1       A\n",
       "1   2       B\n",
       "2   3       C"
      ]
     },
     "execution_count": 5,
     "metadata": {},
     "output_type": "execute_result"
    }
   ],
   "source": [
    "# Creating the first Dataframe using dictionary - much simpler than python below\n",
    "myfile = pd.DataFrame({'ID':[1,2,3],'VAR0001':['A','B','C']}) \n",
    "myfile.head()"
   ]
  },
  {
   "cell_type": "code",
   "execution_count": 6,
   "metadata": {},
   "outputs": [
    {
     "data": {
      "text/html": [
       "<div>\n",
       "<style scoped>\n",
       "    .dataframe tbody tr th:only-of-type {\n",
       "        vertical-align: middle;\n",
       "    }\n",
       "\n",
       "    .dataframe tbody tr th {\n",
       "        vertical-align: top;\n",
       "    }\n",
       "\n",
       "    .dataframe thead th {\n",
       "        text-align: right;\n",
       "    }\n",
       "</style>\n",
       "<table border=\"1\" class=\"dataframe\">\n",
       "  <thead>\n",
       "    <tr style=\"text-align: right;\">\n",
       "      <th></th>\n",
       "      <th>ID</th>\n",
       "      <th>VAR0001</th>\n",
       "    </tr>\n",
       "  </thead>\n",
       "  <tbody>\n",
       "    <tr>\n",
       "      <th>0</th>\n",
       "      <td>1</td>\n",
       "      <td>A</td>\n",
       "    </tr>\n",
       "    <tr>\n",
       "      <th>1</th>\n",
       "      <td>2</td>\n",
       "      <td>B</td>\n",
       "    </tr>\n",
       "    <tr>\n",
       "      <th>2</th>\n",
       "      <td>3</td>\n",
       "      <td>C</td>\n",
       "    </tr>\n",
       "    <tr>\n",
       "      <th>3</th>\n",
       "      <td>4</td>\n",
       "      <td>D</td>\n",
       "    </tr>\n",
       "  </tbody>\n",
       "</table>\n",
       "</div>"
      ],
      "text/plain": [
       "   ID VAR0001\n",
       "0   1       A\n",
       "1   2       B\n",
       "2   3       C\n",
       "3   4       D"
      ]
     },
     "execution_count": 6,
     "metadata": {},
     "output_type": "execute_result"
    }
   ],
   "source": [
    "#add a 4th row with 4,D use append. ignore_index prevents index from starting over with new data appended.\n",
    "\n",
    "df2 = pd.DataFrame({'ID':[4],'VAR0001':['D']}) \n",
    "\n",
    "myfile = myfile.append(df2, ignore_index = True)\n",
    "myfile.head(50)\n",
    "mf= myfile\n",
    "mf\n",
    "\n",
    "\n",
    "\n"
   ]
  },
  {
   "cell_type": "code",
   "execution_count": 10,
   "metadata": {},
   "outputs": [],
   "source": [
    "import pandas as pd\n",
    "from sklearn import datasets as d\n",
    "d = d.load_iris()\n"
   ]
  },
  {
   "cell_type": "code",
   "execution_count": 16,
   "metadata": {},
   "outputs": [
    {
     "name": "stderr",
     "output_type": "stream",
     "text": [
      "/Users/jparryus.ibm.com/anaconda3/lib/python3.7/site-packages/ipykernel_launcher.py:8: DeprecationWarning: \n",
      ".ix is deprecated. Please use\n",
      ".loc for label based indexing or\n",
      ".iloc for positional indexing\n",
      "\n",
      "See the documentation here:\n",
      "http://pandas.pydata.org/pandas-docs/stable/indexing.html#ix-indexer-is-deprecated\n",
      "  \n"
     ]
    },
    {
     "data": {
      "text/html": [
       "<div>\n",
       "<style scoped>\n",
       "    .dataframe tbody tr th:only-of-type {\n",
       "        vertical-align: middle;\n",
       "    }\n",
       "\n",
       "    .dataframe tbody tr th {\n",
       "        vertical-align: top;\n",
       "    }\n",
       "\n",
       "    .dataframe thead th {\n",
       "        text-align: right;\n",
       "    }\n",
       "</style>\n",
       "<table border=\"1\" class=\"dataframe\">\n",
       "  <thead>\n",
       "    <tr style=\"text-align: right;\">\n",
       "      <th></th>\n",
       "      <th>sepal length (cm)</th>\n",
       "      <th>sepal width (cm)</th>\n",
       "      <th>petal length (cm)</th>\n",
       "      <th>petal width (cm)</th>\n",
       "    </tr>\n",
       "  </thead>\n",
       "  <tbody>\n",
       "    <tr>\n",
       "      <th>mean</th>\n",
       "      <td>5.84</td>\n",
       "      <td>3.06</td>\n",
       "      <td>3.76</td>\n",
       "      <td>1.20</td>\n",
       "    </tr>\n",
       "    <tr>\n",
       "      <th>std</th>\n",
       "      <td>0.83</td>\n",
       "      <td>0.44</td>\n",
       "      <td>1.77</td>\n",
       "      <td>0.76</td>\n",
       "    </tr>\n",
       "    <tr>\n",
       "      <th>min</th>\n",
       "      <td>4.30</td>\n",
       "      <td>2.00</td>\n",
       "      <td>1.00</td>\n",
       "      <td>0.10</td>\n",
       "    </tr>\n",
       "    <tr>\n",
       "      <th>max</th>\n",
       "      <td>7.90</td>\n",
       "      <td>4.40</td>\n",
       "      <td>6.90</td>\n",
       "      <td>2.50</td>\n",
       "    </tr>\n",
       "  </tbody>\n",
       "</table>\n",
       "</div>"
      ],
      "text/plain": [
       "      sepal length (cm)  sepal width (cm)  petal length (cm)  petal width (cm)\n",
       "mean               5.84              3.06               3.76              1.20\n",
       "std                0.83              0.44               1.77              0.76\n",
       "min                4.30              2.00               1.00              0.10\n",
       "max                7.90              4.40               6.90              2.50"
      ]
     },
     "execution_count": 16,
     "metadata": {},
     "output_type": "execute_result"
    }
   ],
   "source": [
    "pd.options.display.notebook_repr_html = True\n",
    "df = pd.DataFrame(d.data, columns=d.feature_names)\n",
    "df['y'] = d.target\n",
    "df.head()\n",
    "\n",
    "#df.colummns selects first 4 columns of data. ix selects 1st, 2nd, 3rd and 7th rows of the table \n",
    "pd.set_option('precision',2)\n",
    "df[df.columns[:4]].describe().ix[[1,2,3,7]]"
   ]
  },
  {
   "cell_type": "markdown",
   "metadata": {},
   "source": [
    "<b>Rename Variables No Space<b/>"
   ]
  },
  {
   "cell_type": "code",
   "execution_count": null,
   "metadata": {},
   "outputs": [],
   "source": [
    "#df.columns = [c.replace(' ', '_') for c in df.columns]"
   ]
  },
  {
   "cell_type": "code",
   "execution_count": 7,
   "metadata": {},
   "outputs": [
    {
     "name": "stdout",
     "output_type": "stream",
     "text": [
      "File Shape = (4, 2)\n",
      "File Size (Row Xs Columns) = 8\n",
      "N = 4\n",
      "File Data Types are:\n",
      "ID          int64\n",
      "VAR0001    object\n",
      "dtype: object\n"
     ]
    }
   ],
   "source": [
    "# #print attributes of dataframe\n",
    "\n",
    "print('File Shape = ' + str(mf.shape), \n",
    "      'File Size (Row Xs Columns) = ' + str(mf.size), \n",
    "      'N = '+ str(len(mf.index)), \n",
    "      'File Data Types are:', mf.dtypes\n",
    "       , sep='\\n')"
   ]
  },
  {
   "cell_type": "code",
   "execution_count": null,
   "metadata": {},
   "outputs": [],
   "source": []
  },
  {
   "cell_type": "markdown",
   "metadata": {},
   "source": [
    "<b>Data Types<b/>"
   ]
  },
  {
   "cell_type": "code",
   "execution_count": 25,
   "metadata": {},
   "outputs": [
    {
     "name": "stdout",
     "output_type": "stream",
     "text": [
      "<class 'numpy.int64'> <class 'str'>\n"
     ]
    }
   ],
   "source": [
    "# type for ID and VAR0001\n",
    "x = type(mf.ID[0])\n",
    "y = type(mf.VAR0001[0])\n",
    "print(x,y)\n"
   ]
  },
  {
   "cell_type": "markdown",
   "metadata": {},
   "source": [
    "<b>Directory Listing and Interrogating<b/>"
   ]
  },
  {
   "cell_type": "code",
   "execution_count": 125,
   "metadata": {},
   "outputs": [
    {
     "name": "stdout",
     "output_type": "stream",
     "text": [
      "['xample1.txt', 'Example1.txt', 'Example2.txt']\n"
     ]
    }
   ],
   "source": [
    "#list what objects are in a directory\n",
    "import os\n",
    "entries = os.listdir('/resources/data')\n",
    "print(entries)\n"
   ]
  },
  {
   "cell_type": "code",
   "execution_count": 38,
   "metadata": {},
   "outputs": [
    {
     "data": {
      "text/plain": [
       "'a'"
      ]
     },
     "execution_count": 38,
     "metadata": {},
     "output_type": "execute_result"
    }
   ],
   "source": [
    "x = mf.VAR0001[0].lower()\n",
    "x\n"
   ]
  },
  {
   "cell_type": "markdown",
   "metadata": {},
   "source": [
    "<b>Strings<b/>\n",
    "    "
   ]
  },
  {
   "cell_type": "markdown",
   "metadata": {},
   "source": [
    "<b> Later<b/>"
   ]
  },
  {
   "cell_type": "code",
   "execution_count": null,
   "metadata": {},
   "outputs": [],
   "source": []
  },
  {
   "cell_type": "code",
   "execution_count": null,
   "metadata": {},
   "outputs": [],
   "source": []
  },
  {
   "cell_type": "markdown",
   "metadata": {},
   "source": [
    "<b>Loops<b/>"
   ]
  },
  {
   "cell_type": "code",
   "execution_count": 69,
   "metadata": {},
   "outputs": [
    {
     "name": "stdout",
     "output_type": "stream",
     "text": [
      "disco\n",
      "10\n",
      "1.2\n"
     ]
    }
   ],
   "source": [
    "#Ex1 print each member of the tuple\n",
    "\n",
    "tuple1 = (\"disco\",10,1.2 )\n",
    "i = len(tuple1)\n",
    "i=(i-1)\n",
    "for i in range(i+1):\n",
    "    print(tuple1[i])\n",
    "\n"
   ]
  },
  {
   "cell_type": "code",
   "execution_count": 71,
   "metadata": {},
   "outputs": [
    {
     "name": "stdout",
     "output_type": "stream",
     "text": [
      "(1, 2)\n",
      "(4, 5)\n",
      "(8, 9)\n",
      "(13, 14)\n"
     ]
    }
   ],
   "source": [
    "#Ex2 print each nested member of the tuple\n",
    "NestedT = ((1, 2), (3,4,5),(6,7,8,9),(10,11,12,13,14))\n",
    "n = NestedT\n",
    "a = len(n)\n",
    "\n",
    "for i in range(a):\n",
    "    b = n[i]\n",
    "    c = b[i:a+1]\n",
    "    print(c)\n",
    "    \n",
    "    \n",
    "    "
   ]
  },
  {
   "cell_type": "code",
   "execution_count": 74,
   "metadata": {},
   "outputs": [
    {
     "name": "stdout",
     "output_type": "stream",
     "text": [
      "Element 1, 1 of Tuple:  1\n",
      "Element 1, 2 of Tuple:  2\n",
      "Element 2, 1 of Tuple:  3\n",
      "Element 2, 2 of Tuple:  4\n",
      "Element 2, 3 of Tuple:  5\n"
     ]
    }
   ],
   "source": [
    "#loop this (above)\n",
    "\n",
    "\n",
    "print(\"Element 1, 1 of Tuple: \",   n[0][0])\n",
    "print(\"Element 1, 2 of Tuple: \",   n[0][1])\n",
    "print(\"Element 2, 1 of Tuple: \",   n[1][0])\n",
    "print(\"Element 2, 2 of Tuple: \",   n[1][1])\n",
    "print(\"Element 2, 3 of Tuple: \",   n[1][2])\n"
   ]
  },
  {
   "cell_type": "code",
   "execution_count": null,
   "metadata": {},
   "outputs": [],
   "source": [
    "#create a separate csv for each row: LATER\n",
    "\n",
    "#for ID in myfile:\n",
    "#    TheCurrentMonth = pd.read_csv('MonthlyDataSplit/Day/Day%s.csv' % EachMonth)\n",
    "#    MeanDailyTemperaturesForCurrentMonth = TheCurrentMonth.groupby('Day')['AirTemperature'].mean().reset_index(name='MeanDailyAirTemperature')\n",
    "#     with open('my_csv.csv', 'a') as f:\n",
    "#         df.to_csv(f, header=False)\n",
    "\n",
    "\n",
    "\n",
    "\n"
   ]
  },
  {
   "cell_type": "markdown",
   "metadata": {},
   "source": [
    "<b>Crosstabulation and Descriptives<b/>"
   ]
  },
  {
   "cell_type": "code",
   "execution_count": null,
   "metadata": {},
   "outputs": [],
   "source": [
    "#pd.crosstab(df.City, df.Complaint_Type, rownames = ['A'], colnames= 'B')"
   ]
  },
  {
   "cell_type": "code",
   "execution_count": null,
   "metadata": {},
   "outputs": [],
   "source": []
  },
  {
   "cell_type": "markdown",
   "metadata": {},
   "source": [
    "<b>First Attempts<b/>"
   ]
  },
  {
   "cell_type": "code",
   "execution_count": null,
   "metadata": {},
   "outputs": [],
   "source": [
    "################################Other Attempts######################################    \n",
    "# #create data out of thin air! Probably not the best way to do it, but it works :)\n",
    "# with open('/resources/data/xample1.txt', 'w') as writefile:\n",
    "#     writefile.write('ID, VAR0001 \\n')\n",
    "#     writefile.write('1,A \\n')\n",
    "#     writefile.write('2,B \\n')\n",
    "#     writefile.write('3,C \\n')\n",
    "    \n",
    "#add column names using Pandas\n",
    "#if there were no header, this is how you add a header/var names in pandas\n",
    "#myfile = pd.read_csv('/resources/data/xample1.txt', \n",
    "#                  sep='\\,', \n",
    "#                  names=['ID', 'VAR0001'])\n",
    "#myfile = pd.read_csv('/resources/data/xample1.txt', sep=',')\n",
    "# Check whether write to file worked\n",
    "#Create a file called xample1 and populate with 3 rows and three columns each corresponding to 1,A /n 2,B .... etc. \n",
    "\n",
    "#create file\n",
    "#f= open(\"/resources/data/xample1.txt\",\"w+\")\n",
    "\n",
    "\n"
   ]
  }
 ],
 "metadata": {
  "kernelspec": {
   "display_name": "Python 3",
   "language": "python",
   "name": "python3"
  },
  "language_info": {
   "codemirror_mode": {
    "name": "ipython",
    "version": 3
   },
   "file_extension": ".py",
   "mimetype": "text/x-python",
   "name": "python",
   "nbconvert_exporter": "python",
   "pygments_lexer": "ipython3",
   "version": "3.7.3"
  }
 },
 "nbformat": 4,
 "nbformat_minor": 2
}
